{
 "cells": [
  {
   "cell_type": "markdown",
   "metadata": {},
   "source": [
    "# Sentiment Analysis using Deep Learning\n",
    "________________________________________________________________________________________\n",
    "## Outline\n",
    "\n",
    "* Sentiment Analysis Introduction <br><br>\n",
    "\n",
    "* #### Case Study\n",
    "    * Keras IMDB Dataset<br><br>\n",
    "    * Data Analysis<br><br>\n",
    "    * Word Embeddings<br><br>\n",
    "    * Convolutional Neural Network<br><br>\n",
    "    * Summary\n",
    "    ____"
   ]
  },
  {
   "cell_type": "markdown",
   "metadata": {},
   "source": [
    "# Introduction\n",
    "## Sentiment Analysis\n",
    "---\n",
    "\n",
    "Sentiment analysis is a very beneficial approach to automate the classification of the polarity of a given text. A helpful indication to decide if the customers on amazon like a product or not is for example the star rating. The same applies to many other use cases. However, the underlying basis for the review rating is the raw text material containing the customer's opinion. Therefore, analyzing and categorizing the sentiment of reviews, emails, blog posts and other texts is undoubtedly useful for firms to evaluate the perception of their customers regarding their products, services or as well of the firm by itself. Analyzing the public opinion and brand awareness supports managing the strategy of a firm and the business decisions.\n",
    "\n",
    "Now before we start with the our tutorial, let's first have a look on the basic sentiment analysis steps and characteristics."
   ]
  },
  {
   "cell_type": "markdown",
   "metadata": {},
   "source": [
    "\n",
    "________________________________________________________________________________________\n",
    "### Sentiment Analysis\n",
    "* Computational study of opinions, sentiments and emotions in text\n",
    "* Task: Classifying the expressed opinion of a text (positive, negative, neutral)\n",
    "* Sentiment analysis uses:  \n",
    "    * natural language processing (NLP)\n",
    "    * text analysis \n",
    "    * computational techniques \n",
    "* to automate the extraction or classification of sentiment from text\n",
    "\n",
    "\n",
    "### Types of sentiment\n",
    "* structured \n",
    "* semi-structured\n",
    "* unstructured\n",
    "\n",
    "### Different levels of Sentiment Analysis:\n",
    "* Document based: One score for the whole document (e.g. review)\n",
    "* Sentence based: Does sentence express positive, neutral, negative opinion\n",
    "* Aspect based: Focus on a specific aspect and identify what people like/dislike\n",
    "\n",
    "### Why do we need sentiment analysis? \n",
    "\n",
    "* it becomes a hot area in decisionmaking\n",
    "* 97% of customer’s read online reviews for local business in 2017 (Local Consumer Review Survey 2017)\n",
    "* 85% of consumers trust online reviews as much as personal recommendations (Local Consumer Review Survey 2017)\n",
    "\n",
    "______________________________________________________________________________________\n",
    "\n",
    "### Challenges of Sentiment Analysis\n",
    "\n",
    "* abbreviations (e.g. LOL, YOLO, CD9 → Code 9, parents around)\n",
    "* emoticons\n",
    "* sarcasm \n",
    "* negation\n",
    "\n",
    "<img src=\"images/Smiley.png\" alt=\"IMDB\" style=\"width: 100px;\"/>\n",
    "___\n",
    "\n",
    "### Preprocessing\n",
    "\n",
    "<img src=\"images/Preprocessing.png\" alt=\"IMDB\" style=\"width: 900px;\"/>\n",
    "______________________________________________________________________________________\n",
    "\n",
    "### Example"
   ]
  },
  {
   "cell_type": "code",
   "execution_count": 74,
   "metadata": {
    "collapsed": true
   },
   "outputs": [],
   "source": [
    "# import the \n",
    "import nltk\n",
    "from nltk.tokenize import sent_tokenize, word_tokenize\n",
    "from nltk.corpus import stopwords\n",
    "from nltk.stem import PorterStemmer\n",
    "from nltk.sentiment.vader import SentimentIntensityAnalyzer\n",
    "from nltk.tokenize import RegexpTokenizer"
   ]
  },
  {
   "cell_type": "markdown",
   "metadata": {},
   "source": [
    "#### 1. Step Tokenization: Split each token/word for itself"
   ]
  },
  {
   "cell_type": "code",
   "execution_count": 75,
   "metadata": {},
   "outputs": [
    {
     "name": "stdout",
     "output_type": "stream",
     "text": [
      "['Titanic', 'is', 'a', 'great', 'movie', 'but', 'the', 'worst', 'movie', 'made', 'by', 'one', 'of', 'the', 'greatest', 'directors', 'called', 'James', 'Cameron']\n"
     ]
    }
   ],
   "source": [
    "# Tokenization\n",
    "data = \"Titanic is a great movie but the worst movie made by one of the greatest directors, called James Cameron!\"\n",
    "tokenizer = RegexpTokenizer(r'\\w+')\n",
    "word_tokens = tokenizer.tokenize(data)\n",
    "print(word_tokens)"
   ]
  },
  {
   "cell_type": "markdown",
   "metadata": {},
   "source": [
    "____\n",
    "#### 2. Step Stop word removal: remove stop words such as: by, my, and, a…"
   ]
  },
  {
   "cell_type": "code",
   "execution_count": 76,
   "metadata": {},
   "outputs": [
    {
     "name": "stdout",
     "output_type": "stream",
     "text": [
      "['Titanic', 'great', 'movie', 'worst', 'movie', 'made', 'one', 'greatest', 'directors', 'called', 'James', 'Cameron']\n"
     ]
    }
   ],
   "source": [
    "# Stopword removal\n",
    "stop_words = set(stopwords.words('english')) \n",
    "filtered_sentence = [w for w in word_tokens if not w in stop_words]\n",
    " \n",
    "filtered_sentence = []\n",
    " \n",
    "for w in word_tokens:\n",
    "    if w not in stop_words:\n",
    "        filtered_sentence.append(w)\n",
    "        \n",
    "print(filtered_sentence)"
   ]
  },
  {
   "cell_type": "markdown",
   "metadata": {},
   "source": [
    "____\n",
    "#### 3. Step Stemming: reduce each token/word into the original word stem/root form"
   ]
  },
  {
   "cell_type": "code",
   "execution_count": 77,
   "metadata": {},
   "outputs": [
    {
     "name": "stdout",
     "output_type": "stream",
     "text": [
      "titan\n",
      "great\n",
      "movi\n",
      "worst\n",
      "movi\n",
      "made\n",
      "one\n",
      "greatest\n",
      "director\n",
      "call\n",
      "jame\n",
      "cameron\n"
     ]
    }
   ],
   "source": [
    "# Stemming\n",
    "ps = PorterStemmer()\n",
    " \n",
    "for word in filtered_sentence:\n",
    "  print(ps.stem(word))"
   ]
  },
  {
   "cell_type": "markdown",
   "metadata": {},
   "source": [
    "____\n",
    "#### 4. Step Sentiment assignment: assign positive, negative and neutral words and the overall sentiment"
   ]
  },
  {
   "cell_type": "code",
   "execution_count": 78,
   "metadata": {},
   "outputs": [
    {
     "name": "stdout",
     "output_type": "stream",
     "text": [
      "Titanic\n",
      "neg: 0.0, neu: 1.0, pos: 0.0, compound: 0.0, \n",
      "great\n",
      "neg: 0.0, neu: 0.0, pos: 1.0, compound: 0.6249, \n",
      "movie\n",
      "neg: 0.0, neu: 1.0, pos: 0.0, compound: 0.0, \n",
      "worst\n",
      "neg: 1.0, neu: 0.0, pos: 0.0, compound: -0.6249, \n",
      "movie\n",
      "neg: 0.0, neu: 1.0, pos: 0.0, compound: 0.0, \n",
      "made\n",
      "neg: 0.0, neu: 1.0, pos: 0.0, compound: 0.0, \n",
      "one\n",
      "neg: 0.0, neu: 1.0, pos: 0.0, compound: 0.0, \n",
      "greatest\n",
      "neg: 0.0, neu: 0.0, pos: 1.0, compound: 0.6369, \n",
      "directors\n",
      "neg: 0.0, neu: 1.0, pos: 0.0, compound: 0.0, \n",
      "called\n",
      "neg: 0.0, neu: 1.0, pos: 0.0, compound: 0.0, \n",
      "James\n",
      "neg: 0.0, neu: 1.0, pos: 0.0, compound: 0.0, \n",
      "Cameron\n",
      "neg: 0.0, neu: 1.0, pos: 0.0, compound: 0.0, \n"
     ]
    }
   ],
   "source": [
    "#Sentiment Assingment\n",
    "  \n",
    "sid = SentimentIntensityAnalyzer()\n",
    "for sentence in filtered_sentence:\n",
    "     print(sentence)\n",
    "     ss = sid.polarity_scores(sentence)\n",
    "     for k in ss:\n",
    "         print('{0}: {1}, ' .format(k, ss[k]), end='')\n",
    "     print()"
   ]
  },
  {
   "cell_type": "markdown",
   "metadata": {},
   "source": [
    "____\n",
    "# Case Study: \n",
    "## Keras IMDB Movie Review Dataset\n",
    "\n",
    "For this tutorial, we chose the so called Large Movie Review Dataset often referred to as Keras IMDB dataset. Starting with the procedure of the data exploration, we will further explain how to devise a model that can predict the sentiment of movie reviews as either negative or positive. Therefore, we will use Python and the Keras deep learning library. However, the overall goal of this tutorial is to focus on explaining how all the things work rather than achieving the best accuracies. Our models perfomed good but might have also achieved better accuracy results when using a bigger dataset. <br><br>\n",
    "____\n",
    "\n",
    "#### Keras IMDB Movie Review Dataset\n",
    "* The dataset has originally been used in Maas et al. (2011): Learning Word Vectors for Sentiment Analysis\n",
    "* Overall distribution of labels is balanced\n",
    "    * 50.000 reviews (25.000 for training and 25.000 for testing with each 12.500 reviews marked as positive or negative)\n",
    "* It is a binary (0 = negative or 1 = positive) classification problem.\n",
    "    * The negative reviews have a score from 4 out of 10, \n",
    "    * The positive reviews have a score from 7 out of 10. \n",
    "    * Thus, neutral rated reviews are not included in the train/test sets. \n",
    "    * To not bias the ratings between the movies, in the entire dataset, not more than 30 reviews for a specific movie were allowed.\n",
    "* The reviews have been preprocessed and encoded as a sequence of integer word indexes, where each word is indexed by its overall frequency (e.g. integer “5” encodes the 5th most frequent words in the dataset).\n",
    "____"
   ]
  },
  {
   "cell_type": "markdown",
   "metadata": {},
   "source": [
    "___\n",
    "<img src=\"images/Reviews.png\" alt=\"IMDB\" style=\"width: 500px;\"/>"
   ]
  },
  {
   "cell_type": "markdown",
   "metadata": {},
   "source": [
    "___\n",
    "### Tutorial:\n",
    "* The overall goal and focus is to evaluate whether sentiment expressed in movie reviews obtained from IMDB can effectively indicate public opinion\n",
    "* The underlying data mining question becomes whether we can devise a model that can measure the polarity of the text accurately <br><br>\n",
    "____\n",
    "\n"
   ]
  },
  {
   "cell_type": "code",
   "execution_count": 59,
   "metadata": {
    "collapsed": true
   },
   "outputs": [],
   "source": [
    "from helperfunctions5 import *"
   ]
  },
  {
   "cell_type": "markdown",
   "metadata": {},
   "source": [
    "Before we will have look into the Keras IMDB dataset and its characteristics you should keep the following assumptions in mind:\n",
    "* Movie reviews are not expected to have the same text length (number of words)\n",
    "* Neural networks are expecting a fixed size of input vector\n",
    "* We will therefore have to either truncate long reviews or pad short reviews\n",
    "____\n",
    "\n",
    "Before building the deep learning models it is necessary to gain a clear understanding of the shape and complexity of the dataset. Therefore we show you how to calculate some crucial properties and how to find key statistics through data exploration. This is required because some of the following decisions taken when building the models were based on specific characteristics of the Keras IMDB dataset.\n",
    "\n",
    "Now let's have a deeper look at our data."
   ]
  },
  {
   "cell_type": "code",
   "execution_count": 81,
   "metadata": {},
   "outputs": [
    {
     "name": "stdout",
     "output_type": "stream",
     "text": [
      "Loading the IMDB dataset...\n",
      "25000 train sequences\n",
      "25000 test sequences\n",
      "\n",
      "Classes: \n",
      "[0 1]\n",
      "\n",
      "Keras IMDB Review-Example:\n",
      "[1, 14, 22, 16, 43, 530, 973, 1622, 1385, 65, 458, 4468, 66, 3941, 4, 173, 36, 256, 5, 25, 100, 43, 838, 112, 50, 670, 22665, 9, 35, 480, 284, 5, 150, 4, 172, 112, 167, 21631, 336, 385, 39, 4, 172, 4536, 1111, 17, 546, 38, 13, 447, 4, 192, 50, 16, 6, 147, 2025, 19, 14, 22, 4, 1920, 4613, 469, 4, 22, 71, 87, 12, 16, 43, 530, 38, 76, 15, 13, 1247, 4, 22, 17, 515, 17, 12, 16, 626, 18, 19193, 5, 62, 386, 12, 8, 316, 8, 106, 5, 4, 2223, 5244, 16, 480, 66, 3785, 33, 4, 130, 12, 16, 38, 619, 5, 25, 124, 51, 36, 135, 48, 25, 1415, 33, 6, 22, 12, 215, 28, 77, 52, 5, 14, 407, 16, 82, 10311, 8, 4, 107, 117, 5952, 15, 256, 4, 31050, 7, 3766, 5, 723, 36, 71, 43, 530, 476, 26, 400, 317, 46, 7, 4, 12118, 1029, 13, 104, 88, 4, 381, 15, 297, 98, 32, 2071, 56, 26, 141, 6, 194, 7486, 18, 4, 226, 22, 21, 134, 476, 26, 480, 5, 144, 30, 5535, 18, 51, 36, 28, 224, 92, 25, 104, 4, 226, 65, 16, 38, 1334, 88, 12, 16, 283, 5, 16, 4472, 113, 103, 32, 15, 16, 5345, 19, 178, 32]\n",
      "\n"
     ]
    }
   ],
   "source": [
    "# start by loading the entire IMDB dataset\n",
    "print('Loading the IMDB dataset...')\n",
    "(x_train, y_train), (x_test, y_test) = imdb.load_data()\n",
    "print(len(x_train), 'train sequences')\n",
    "print(len(x_test), 'test sequences')\n",
    "print()\n",
    "\n",
    "# summarize the number of classes by printing the unique class values.\n",
    "print(\"Classes: \")\n",
    "print(np.unique(y_train))\n",
    "print()\n",
    "\n",
    "# print a review from the Keras IMDB dataset\n",
    "print(\"Keras IMDB Review-Example:\")\n",
    "print(x_train[0])\n",
    "print()"
   ]
  },
  {
   "cell_type": "markdown",
   "metadata": {},
   "source": [
    "As you can see, we have 25.000 train and 25.000 test sequences.<br>\n",
    "Further, by printing the number of unique classes, it becomes obvious that it is a binary classification problem for positive and negative sentiment in the review.<br>\n",
    "The reviews consists of list of integers. Each integer represents one word in a movie review, where each word is indexed by its overall frequency in the dataset.\n",
    "\n",
    "\n",
    "____"
   ]
  },
  {
   "cell_type": "markdown",
   "metadata": {},
   "source": [
    "### The top 10 most frequently used words across the dataset:\n",
    "\n",
    "To show the top 10 most frequent words across the dataset we need to run the snippet below.\n",
    "Our helperfunction-file includes a function to load the IMDB dataset that contains the original reviews with their text. You can also download the original files here (https://s3.amazonaws.com/text-datasets/imdb_full.pkl).\n",
    "However, the most frequent words in the reveiws are as expected the typical stopwords (\"the\", \"and\", \"a\", \"of\"...)."
   ]
  },
  {
   "cell_type": "code",
   "execution_count": 79,
   "metadata": {},
   "outputs": [
    {
     "data": {
      "text/plain": [
       "['the', 'and', 'a', 'of', 'to', 'is', 'br', 'in', 'it', 'i']"
      ]
     },
     "execution_count": 79,
     "metadata": {},
     "output_type": "execute_result"
    }
   ],
   "source": [
    "# show the first 10 words to know what the most frequent words of the dataset are\n",
    "# index/word mapping\n",
    "index = imdb.get_word_index()\n",
    "index2word = {v: k for k, v in index.items()}\n",
    "\n",
    "index_arr = sorted(index, key=index.get)\n",
    "index_arr[:10] # first 10 words"
   ]
  },
  {
   "cell_type": "markdown",
   "metadata": {},
   "source": [
    "____\n",
    "### Wordcloud\n",
    "\n",
    "This wordclound illustration presents the most common words across the dataset but excludes the stopwords.<br>\n",
    "The most common words are: 'movie', 'film', 'story', 'character', 'scene'...\n",
    "\n",
    "If you look closer you will find also the terms 'good' and 'bad' within the wordcloud. In general, these words do not provide us with detailed information on the polarity of the reviews. Consequently, further exploration regarding the positive and negative sentiment words is needed."
   ]
  },
  {
   "cell_type": "code",
   "execution_count": 62,
   "metadata": {},
   "outputs": [
    {
     "data": {
      "image/png": "[encoded data removed]",
      "text/plain": [
       "<matplotlib.figure.Figure at 0x1a599aebe0>"
      ]
     },
     "metadata": {},
     "output_type": "display_data"
    },
    {
     "data": {
      "image/png": "[encoded data removed]",
      "text/plain": [
       "<matplotlib.figure.Figure at 0x1a599ae780>"
      ]
     },
     "metadata": {},
     "output_type": "display_data"
    }
   ],
   "source": [
    "# Get the text and join all the reviews in training set\n",
    "text = ' '.join(train_data[0]) \n",
    "\n",
    "# limit the word count and set the stopwords\n",
    "wordcount = 500\n",
    "stopwords = set(STOPWORDS)\n",
    "stopwords.add(\"br\")\n",
    "\n",
    "# setup, generate and save the word cloud image to a file\n",
    "wc = WordCloud(scale=5, \n",
    "               background_color=\"grey\", \n",
    "               max_words=wordcount, \n",
    "               stopwords=stopwords)\n",
    "wc.generate(text)\n",
    "wc.to_file(\"WordCloud.png\")\n",
    "\n",
    "# show the wordcloud as output\n",
    "plt.imshow(wc, interpolation='bilinear')\n",
    "plt.axis(\"off\")\n",
    "plt.figure()\n",
    "plt.axis(\"off\")\n",
    "plt.show()"
   ]
  },
  {
   "cell_type": "markdown",
   "metadata": {},
   "source": [
    "____\n",
    "### Summary  Statistics:"
   ]
  },
  {
   "cell_type": "code",
   "execution_count": 64,
   "metadata": {},
   "outputs": [
    {
     "name": "stdout",
     "output_type": "stream",
     "text": [
      "Number of words: \n",
      "88585\n",
      "\n",
      "Average review length:\n",
      "Mean 238.71 words (176.493674)\n"
     ]
    }
   ],
   "source": [
    "# print  number of unique words\n",
    "print(\"Number of words: \")\n",
    "print(len(np.unique(np.hstack(x_train))))\n",
    "print ()\n",
    "\n",
    "# print the average review length\n",
    "print(\"Average review length:\")\n",
    "result = [len(x) for x in x_train]\n",
    "print(\"Mean %.2f words (%f)\" % (np.mean(result), np.std(result)))"
   ]
  },
  {
   "cell_type": "markdown",
   "metadata": {},
   "source": [
    "As you can see the number of unique words in the dataset is given as 88.585. This is an interesting fact indicating that there are less than 100.000 words within the whole dataset. Moreover, the calculated average review length amounts to 238.71 words in total with a standard deviation of 176.49 words."
   ]
  },
  {
   "cell_type": "markdown",
   "metadata": {},
   "source": [
    "____\n",
    "### Boxplot"
   ]
  },
  {
   "cell_type": "code",
   "execution_count": 65,
   "metadata": {},
   "outputs": [
    {
     "data": {
      "image/png": "[encoded data removed]",
      "text/plain": [
       "<matplotlib.figure.Figure at 0x1a7cf9d048>"
      ]
     },
     "metadata": {},
     "output_type": "display_data"
    }
   ],
   "source": [
    "# with matplotlib we can plot a boxplot to show the review length in words\n",
    "\n",
    "plt.boxplot(result)\n",
    "plt.show()"
   ]
  },
  {
   "cell_type": "markdown",
   "metadata": {},
   "source": [
    "As a result, we get to the information that most reviews have less than 500 words and the mass of the distribution can be covered with a length of 400 to 500 words. Further, the overall distribution review length is positively skewed."
   ]
  },
  {
   "cell_type": "markdown",
   "metadata": {},
   "source": [
    "___\n",
    "### Which words make a review positive or negative?\n",
    "\n",
    "In addition, to show how the combination of words can influence the polarity of a given text, we need to have a basic understanding of the concept of n-grams. N-grams are the result of fragmenting a text into N consecutive pieces.<br><br> For example: “Good” (unigram) is definitely positive and “very good” (bigram) even more. However, “not good” (bigram) seems to be less positive. <br><br> Therefore, you can use the NLTK library to remove the stopwords from the original dataset. Further, you can apply a simple logistic regression to get more insights to what important unigrams and bigrams make a review positive or negative."
   ]
  },
  {
   "cell_type": "markdown",
   "metadata": {},
   "source": [
    "___\n",
    "#### Which words make a review positive?"
   ]
  },
  {
   "cell_type": "code",
   "execution_count": 70,
   "metadata": {},
   "outputs": [
    {
     "data": {
      "text/html": [
       "<div>\n",
       "<style>\n",
       "    .dataframe thead tr:only-child th {\n",
       "        text-align: right;\n",
       "    }\n",
       "\n",
       "    .dataframe thead th {\n",
       "        text-align: left;\n",
       "    }\n",
       "\n",
       "    .dataframe tbody tr th {\n",
       "        vertical-align: top;\n",
       "    }\n",
       "</style>\n",
       "<table border=\"1\" class=\"dataframe\">\n",
       "  <thead>\n",
       "    <tr style=\"text-align: right;\">\n",
       "      <th></th>\n",
       "      <th>coef</th>\n",
       "      <th>word</th>\n",
       "    </tr>\n",
       "  </thead>\n",
       "  <tbody>\n",
       "    <tr>\n",
       "      <th>2969</th>\n",
       "      <td>0.672635</td>\n",
       "      <td>excellent</td>\n",
       "    </tr>\n",
       "    <tr>\n",
       "      <th>6681</th>\n",
       "      <td>0.563958</td>\n",
       "      <td>perfect</td>\n",
       "    </tr>\n",
       "    <tr>\n",
       "      <th>9816</th>\n",
       "      <td>0.521026</td>\n",
       "      <td>wonderful</td>\n",
       "    </tr>\n",
       "    <tr>\n",
       "      <th>8646</th>\n",
       "      <td>0.520818</td>\n",
       "      <td>superb</td>\n",
       "    </tr>\n",
       "    <tr>\n",
       "      <th>3165</th>\n",
       "      <td>0.505146</td>\n",
       "      <td>favorite</td>\n",
       "    </tr>\n",
       "    <tr>\n",
       "      <th>431</th>\n",
       "      <td>0.502118</td>\n",
       "      <td>amazing</td>\n",
       "    </tr>\n",
       "    <tr>\n",
       "      <th>5923</th>\n",
       "      <td>0.481505</td>\n",
       "      <td>must see</td>\n",
       "    </tr>\n",
       "    <tr>\n",
       "      <th>5214</th>\n",
       "      <td>0.461807</td>\n",
       "      <td>loved</td>\n",
       "    </tr>\n",
       "    <tr>\n",
       "      <th>3632</th>\n",
       "      <td>0.458645</td>\n",
       "      <td>funniest</td>\n",
       "    </tr>\n",
       "    <tr>\n",
       "      <th>2798</th>\n",
       "      <td>0.453481</td>\n",
       "      <td>enjoyable</td>\n",
       "    </tr>\n",
       "  </tbody>\n",
       "</table>\n",
       "</div>"
      ],
      "text/plain": [
       "          coef       word\n",
       "2969  0.672635  excellent\n",
       "6681  0.563958    perfect\n",
       "9816  0.521026  wonderful\n",
       "8646  0.520818     superb\n",
       "3165  0.505146   favorite\n",
       "431   0.502118    amazing\n",
       "5923  0.481505   must see\n",
       "5214  0.461807      loved\n",
       "3632  0.458645   funniest\n",
       "2798  0.453481  enjoyable"
      ]
     },
     "execution_count": 70,
     "metadata": {},
     "output_type": "execute_result"
    }
   ],
   "source": [
    "vocabulary = vectorizer.get_feature_names()\n",
    "coef = logistic_model.coef_\n",
    "word_importances = pd.DataFrame({'word': vocabulary, 'coef': coef.tolist()[0]})\n",
    "word_importances_sorted = word_importances.sort_values(by='coef', ascending = False)\n",
    "word_importances_sorted[:10]"
   ]
  },
  {
   "cell_type": "markdown",
   "metadata": {},
   "source": [
    "___\n",
    "#### Which words make a review negative?"
   ]
  },
  {
   "cell_type": "code",
   "execution_count": 71,
   "metadata": {},
   "outputs": [
    {
     "data": {
      "text/html": [
       "<div>\n",
       "<style>\n",
       "    .dataframe thead tr:only-child th {\n",
       "        text-align: right;\n",
       "    }\n",
       "\n",
       "    .dataframe thead th {\n",
       "        text-align: left;\n",
       "    }\n",
       "\n",
       "    .dataframe tbody tr th {\n",
       "        vertical-align: top;\n",
       "    }\n",
       "</style>\n",
       "<table border=\"1\" class=\"dataframe\">\n",
       "  <thead>\n",
       "    <tr style=\"text-align: right;\">\n",
       "      <th></th>\n",
       "      <th>coef</th>\n",
       "      <th>word</th>\n",
       "    </tr>\n",
       "  </thead>\n",
       "  <tbody>\n",
       "    <tr>\n",
       "      <th>6864</th>\n",
       "      <td>-0.564446</td>\n",
       "      <td>poor</td>\n",
       "    </tr>\n",
       "    <tr>\n",
       "      <th>2625</th>\n",
       "      <td>-0.565503</td>\n",
       "      <td>dull</td>\n",
       "    </tr>\n",
       "    <tr>\n",
       "      <th>9855</th>\n",
       "      <td>-0.575061</td>\n",
       "      <td>worse</td>\n",
       "    </tr>\n",
       "    <tr>\n",
       "      <th>4267</th>\n",
       "      <td>-0.588133</td>\n",
       "      <td>horrible</td>\n",
       "    </tr>\n",
       "    <tr>\n",
       "      <th>2439</th>\n",
       "      <td>-0.596303</td>\n",
       "      <td>disappointing</td>\n",
       "    </tr>\n",
       "    <tr>\n",
       "      <th>6866</th>\n",
       "      <td>-0.675187</td>\n",
       "      <td>poorly</td>\n",
       "    </tr>\n",
       "    <tr>\n",
       "      <th>1045</th>\n",
       "      <td>-0.681608</td>\n",
       "      <td>boring</td>\n",
       "    </tr>\n",
       "    <tr>\n",
       "      <th>2440</th>\n",
       "      <td>-0.688024</td>\n",
       "      <td>disappointment</td>\n",
       "    </tr>\n",
       "    <tr>\n",
       "      <th>702</th>\n",
       "      <td>-0.811185</td>\n",
       "      <td>awful</td>\n",
       "    </tr>\n",
       "    <tr>\n",
       "      <th>9607</th>\n",
       "      <td>-0.838195</td>\n",
       "      <td>waste</td>\n",
       "    </tr>\n",
       "  </tbody>\n",
       "</table>\n",
       "</div>"
      ],
      "text/plain": [
       "          coef            word\n",
       "6864 -0.564446            poor\n",
       "2625 -0.565503            dull\n",
       "9855 -0.575061           worse\n",
       "4267 -0.588133        horrible\n",
       "2439 -0.596303   disappointing\n",
       "6866 -0.675187          poorly\n",
       "1045 -0.681608          boring\n",
       "2440 -0.688024  disappointment\n",
       "702  -0.811185           awful\n",
       "9607 -0.838195           waste"
      ]
     },
     "execution_count": 71,
     "metadata": {},
     "output_type": "execute_result"
    }
   ],
   "source": [
    "word_importances_sorted[-11:-1]"
   ]
  },
  {
   "cell_type": "markdown",
   "metadata": {},
   "source": [
    "___\n",
    "#### Which 2-grams make it positive?"
   ]
  },
  {
   "cell_type": "code",
   "execution_count": 72,
   "metadata": {},
   "outputs": [
    {
     "data": {
      "text/html": [
       "<div>\n",
       "<style>\n",
       "    .dataframe thead tr:only-child th {\n",
       "        text-align: right;\n",
       "    }\n",
       "\n",
       "    .dataframe thead th {\n",
       "        text-align: left;\n",
       "    }\n",
       "\n",
       "    .dataframe tbody tr th {\n",
       "        vertical-align: top;\n",
       "    }\n",
       "</style>\n",
       "<table border=\"1\" class=\"dataframe\">\n",
       "  <thead>\n",
       "    <tr style=\"text-align: right;\">\n",
       "      <th></th>\n",
       "      <th>coef</th>\n",
       "      <th>word</th>\n",
       "    </tr>\n",
       "  </thead>\n",
       "  <tbody>\n",
       "    <tr>\n",
       "      <th>5923</th>\n",
       "      <td>0.481505</td>\n",
       "      <td>must see</td>\n",
       "    </tr>\n",
       "    <tr>\n",
       "      <th>3</th>\n",
       "      <td>0.450675</td>\n",
       "      <td>10 10</td>\n",
       "    </tr>\n",
       "    <tr>\n",
       "      <th>6350</th>\n",
       "      <td>0.421314</td>\n",
       "      <td>one best</td>\n",
       "    </tr>\n",
       "    <tr>\n",
       "      <th>9701</th>\n",
       "      <td>0.389081</td>\n",
       "      <td>well worth</td>\n",
       "    </tr>\n",
       "    <tr>\n",
       "      <th>5452</th>\n",
       "      <td>0.371277</td>\n",
       "      <td>may not</td>\n",
       "    </tr>\n",
       "    <tr>\n",
       "      <th>6139</th>\n",
       "      <td>0.329485</td>\n",
       "      <td>not bad</td>\n",
       "    </tr>\n",
       "    <tr>\n",
       "      <th>6970</th>\n",
       "      <td>0.323805</td>\n",
       "      <td>pretty good</td>\n",
       "    </tr>\n",
       "    <tr>\n",
       "      <th>2259</th>\n",
       "      <td>0.307238</td>\n",
       "      <td>definitely worth</td>\n",
       "    </tr>\n",
       "    <tr>\n",
       "      <th>5208</th>\n",
       "      <td>0.303380</td>\n",
       "      <td>love movie</td>\n",
       "    </tr>\n",
       "    <tr>\n",
       "      <th>9432</th>\n",
       "      <td>0.301404</td>\n",
       "      <td>very good</td>\n",
       "    </tr>\n",
       "  </tbody>\n",
       "</table>\n",
       "</div>"
      ],
      "text/plain": [
       "          coef              word\n",
       "5923  0.481505          must see\n",
       "3     0.450675             10 10\n",
       "6350  0.421314          one best\n",
       "9701  0.389081        well worth\n",
       "5452  0.371277           may not\n",
       "6139  0.329485           not bad\n",
       "6970  0.323805       pretty good\n",
       "2259  0.307238  definitely worth\n",
       "5208  0.303380        love movie\n",
       "9432  0.301404         very good"
      ]
     },
     "execution_count": 72,
     "metadata": {},
     "output_type": "execute_result"
    }
   ],
   "source": [
    "word_importances_bigrams = word_importances_sorted[word_importances_sorted.word.apply(lambda c: len(c.split()) >= 2)]\n",
    "word_importances_bigrams[:10]"
   ]
  },
  {
   "cell_type": "markdown",
   "metadata": {},
   "source": [
    "___\n",
    "#### Which 2-grams make it negative?"
   ]
  },
  {
   "cell_type": "code",
   "execution_count": 73,
   "metadata": {},
   "outputs": [
    {
     "data": {
      "text/html": [
       "<div>\n",
       "<style>\n",
       "    .dataframe thead tr:only-child th {\n",
       "        text-align: right;\n",
       "    }\n",
       "\n",
       "    .dataframe thead th {\n",
       "        text-align: left;\n",
       "    }\n",
       "\n",
       "    .dataframe tbody tr th {\n",
       "        vertical-align: top;\n",
       "    }\n",
       "</style>\n",
       "<table border=\"1\" class=\"dataframe\">\n",
       "  <thead>\n",
       "    <tr style=\"text-align: right;\">\n",
       "      <th></th>\n",
       "      <th>coef</th>\n",
       "      <th>word</th>\n",
       "    </tr>\n",
       "  </thead>\n",
       "  <tbody>\n",
       "    <tr>\n",
       "      <th>6431</th>\n",
       "      <td>-0.247169</td>\n",
       "      <td>only good</td>\n",
       "    </tr>\n",
       "    <tr>\n",
       "      <th>3151</th>\n",
       "      <td>-0.250090</td>\n",
       "      <td>fast forward</td>\n",
       "    </tr>\n",
       "    <tr>\n",
       "      <th>9861</th>\n",
       "      <td>-0.264564</td>\n",
       "      <td>worst movie</td>\n",
       "    </tr>\n",
       "    <tr>\n",
       "      <th>6201</th>\n",
       "      <td>-0.324169</td>\n",
       "      <td>not recommend</td>\n",
       "    </tr>\n",
       "    <tr>\n",
       "      <th>6153</th>\n",
       "      <td>-0.332796</td>\n",
       "      <td>not even</td>\n",
       "    </tr>\n",
       "    <tr>\n",
       "      <th>6164</th>\n",
       "      <td>-0.333147</td>\n",
       "      <td>not funny</td>\n",
       "    </tr>\n",
       "    <tr>\n",
       "      <th>6217</th>\n",
       "      <td>-0.357056</td>\n",
       "      <td>not very</td>\n",
       "    </tr>\n",
       "    <tr>\n",
       "      <th>6169</th>\n",
       "      <td>-0.368976</td>\n",
       "      <td>not good</td>\n",
       "    </tr>\n",
       "    <tr>\n",
       "      <th>6421</th>\n",
       "      <td>-0.437750</td>\n",
       "      <td>one worst</td>\n",
       "    </tr>\n",
       "    <tr>\n",
       "      <th>9609</th>\n",
       "      <td>-0.451138</td>\n",
       "      <td>waste time</td>\n",
       "    </tr>\n",
       "  </tbody>\n",
       "</table>\n",
       "</div>"
      ],
      "text/plain": [
       "          coef           word\n",
       "6431 -0.247169      only good\n",
       "3151 -0.250090   fast forward\n",
       "9861 -0.264564    worst movie\n",
       "6201 -0.324169  not recommend\n",
       "6153 -0.332796       not even\n",
       "6164 -0.333147      not funny\n",
       "6217 -0.357056       not very\n",
       "6169 -0.368976       not good\n",
       "6421 -0.437750      one worst\n",
       "9609 -0.451138     waste time"
      ]
     },
     "execution_count": 73,
     "metadata": {},
     "output_type": "execute_result"
    }
   ],
   "source": [
    "word_importances_bigrams[-11:-1]"
   ]
  }
 ],
 "metadata": {
  "kernelspec": {
   "display_name": "Python 3",
   "language": "python",
   "name": "python3"
  },
  "language_info": {
   "codemirror_mode": {
    "name": "ipython",
    "version": 3
   },
   "file_extension": ".py",
   "mimetype": "text/x-python",
   "name": "python",
   "nbconvert_exporter": "python",
   "pygments_lexer": "ipython3",
   "version": "3.6.3"
  }
 },
 "nbformat": 4,
 "nbformat_minor": 2
}
