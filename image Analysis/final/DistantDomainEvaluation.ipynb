{
 "cells": [
  {
   "cell_type": "markdown",
   "metadata": {},
   "source": [
    "## Distan Domain Transfer"
   ]
  },
  {
   "cell_type": "code",
   "execution_count": 4,
   "metadata": {},
   "outputs": [
    {
     "name": "stderr",
     "output_type": "stream",
     "text": [
      "Using TensorFlow backend.\n"
     ]
    }
   ],
   "source": [
    "import numpy as np\n",
    "from keras import applications, optimizers\n",
    "from keras.preprocessing.image import ImageDataGenerator\n",
    "from keras.models import Sequential, Model\n",
    "from keras.layers import Dropout, Flatten, Dense\n",
    "from keras import applications\n",
    "from keras.callbacks import ModelCheckpoint, LearningRateScheduler, TensorBoard, EarlyStopping\n",
    "import pickle\n",
    "from IPython.display import clear_output\n",
    "import matplotlib.pyplot as plt"
   ]
  },
  {
   "cell_type": "code",
   "execution_count": 5,
   "metadata": {},
   "outputs": [
    {
     "name": "stdout",
     "output_type": "stream",
     "text": [
      "Found 235 images belonging to 2 classes.\n"
     ]
    }
   ],
   "source": [
    "#Import test data from a distant domain - this dataset splits men and women\n",
    "datagen = ImageDataGenerator(rescale=1. / 255)\n",
    "test_generator = datagen.flow_from_directory(\n",
    "        #'tmp/test',\n",
    "        'GENDER-COLOR-FERET/test',\n",
    "        target_size=(150, 150),\n",
    "        batch_size=1)"
   ]
  },
  {
   "cell_type": "markdown",
   "metadata": {},
   "source": [
    "### Function to build model structure"
   ]
  },
  {
   "cell_type": "code",
   "execution_count": 6,
   "metadata": {},
   "outputs": [],
   "source": [
    "def getTestModel(weightFile):\n",
    "    \n",
    "    #We only saved the weights of our learned model. Means we need recreate the model structure first\n",
    "    model = applications.VGG16(weights='imagenet', include_top=False, input_shape=(150, 150, 3))    \n",
    "    top_model = Sequential()\n",
    "    top_model.add(Flatten(input_shape=model.output_shape[1:]))\n",
    "    top_model.add(Dense(256, activation='relu'))\n",
    "    top_model.add(Dropout(0.5))\n",
    "    top_model.add(Dense(1, activation='sigmoid'))\n",
    "\n",
    "    # add the model on top of the convolutional base\n",
    "    test_model = Model(inputs=model.input, outputs=top_model(model.output))#model.add(top_model)\n",
    "    if(weightFile is not None):    \n",
    "        #use out learned weights\n",
    "        test_model.load_weights(weightFile) \n",
    "    else: \n",
    "        #or the pre-trained weights from Imagenet, that wasn't touched by us\n",
    "        print('Using original weights from IMAGENET')\n",
    "    \n",
    "    #create model\n",
    "    test_model.compile(loss='binary_crossentropy',\n",
    "                  optimizer=optimizers.SGD(lr=1e-4, momentum=0.9),metrics=['accuracy'])\n",
    "    \n",
    "    return test_model\n",
    "          "
   ]
  },
  {
   "cell_type": "markdown",
   "metadata": {},
   "source": [
    "### Function to load the model"
   ]
  },
  {
   "cell_type": "code",
   "execution_count": 8,
   "metadata": {},
   "outputs": [],
   "source": [
    "def getResults(vgg16Weights,augumentation, i):    \n",
    "    aug=''\n",
    "    wei=''\n",
    "    model=''\n",
    "    if (augumentation):\n",
    "        aug='Augumentation'\n",
    "    else:\n",
    "        aug='NoAugumentation'\n",
    "        \n",
    "    if vgg16Weights:\n",
    "        wei='Weights'\n",
    "    else:\n",
    "        wei='NoWeights'\n",
    "    model='vgg16_'+wei+'_'+aug+'_trainedLast_'+str(18-i)+'_Layers_.h5'\n",
    "    print('Use Model: '+model)\n",
    "    trainedModel=getTestModel(model) \n",
    "    prediction=trainedModel.predict_generator(test_generator,100)\n",
    "    print('test accuracy: '+str(np.sum(prediction)/len(prediction)))"
   ]
  },
  {
   "cell_type": "code",
   "execution_count": 10,
   "metadata": {},
   "outputs": [
    {
     "name": "stdout",
     "output_type": "stream",
     "text": [
      "Use Model: vgg16_Weights_Augumentation_trainedLast_0_Layers_.h5\n",
      "test accuracy: 0.860477905273\n",
      "Use Model: vgg16_NoWeights_Augumentation_trainedLast_0_Layers_.h5\n",
      "test accuracy: 0.796162796021\n",
      "Use Model: vgg16_NoWeights_NoAugumentation_trainedLast_0_Layers_.h5\n",
      "test accuracy: 0.867570037842\n",
      "Use Model: vgg16_Weights_NoAugumentation_trainedLast_0_Layers_.h5\n",
      "test accuracy: 0.729771575928\n",
      "Use Model: vgg16_Weights_Augumentation_trainedLast_4_Layers_.h5\n",
      "test accuracy: 0.7996534729\n",
      "Use Model: vgg16_NoWeights_Augumentation_trainedLast_4_Layers_.h5\n",
      "test accuracy: 0.943097839355\n",
      "Use Model: vgg16_NoWeights_NoAugumentation_trainedLast_4_Layers_.h5\n",
      "test accuracy: 0.9509400177\n",
      "Use Model: vgg16_Weights_NoAugumentation_trainedLast_4_Layers_.h5\n",
      "test accuracy: 0.846326980591\n",
      "Use Model: vgg16_Weights_Augumentation_trainedLast_8_Layers_.h5\n",
      "test accuracy: 0.920284118652\n",
      "Use Model: vgg16_NoWeights_Augumentation_trainedLast_8_Layers_.h5\n",
      "test accuracy: 0.96036857605\n",
      "Use Model: vgg16_NoWeights_NoAugumentation_trainedLast_8_Layers_.h5\n",
      "test accuracy: 0.94380065918\n",
      "Use Model: vgg16_Weights_NoAugumentation_trainedLast_8_Layers_.h5\n",
      "test accuracy: 0.924639816284\n",
      "Use Model: vgg16_Weights_Augumentation_trainedLast_12_Layers_.h5\n",
      "test accuracy: 0.919537887573\n",
      "Use Model: vgg16_NoWeights_Augumentation_trainedLast_12_Layers_.h5\n",
      "test accuracy: 0.968680953979\n",
      "Use Model: vgg16_NoWeights_NoAugumentation_trainedLast_12_Layers_.h5\n",
      "test accuracy: 0.971438446045\n",
      "Use Model: vgg16_Weights_NoAugumentation_trainedLast_12_Layers_.h5\n",
      "test accuracy: 0.998929595947\n",
      "Use Model: vgg16_Weights_Augumentation_trainedLast_15_Layers_.h5\n",
      "test accuracy: 0.903565826416\n",
      "Use Model: vgg16_NoWeights_Augumentation_trainedLast_15_Layers_.h5\n",
      "test accuracy: 0.846941223145\n",
      "Use Model: vgg16_NoWeights_NoAugumentation_trainedLast_15_Layers_.h5\n",
      "test accuracy: 0.753609542847\n",
      "Use Model: vgg16_Weights_NoAugumentation_trainedLast_15_Layers_.h5\n",
      "test accuracy: 0.907411499023\n",
      "Use Model: vgg16_Weights_Augumentation_trainedLast_18_Layers_.h5\n",
      "test accuracy: 0.848369903564\n",
      "Use Model: vgg16_NoWeights_Augumentation_trainedLast_18_Layers_.h5\n",
      "test accuracy: 0.97376411438\n",
      "Use Model: vgg16_NoWeights_NoAugumentation_trainedLast_18_Layers_.h5\n",
      "test accuracy: 0.987794570923\n",
      "Use Model: vgg16_Weights_NoAugumentation_trainedLast_18_Layers_.h5\n",
      "test accuracy: 0.886534881592\n"
     ]
    }
   ],
   "source": [
    "# Hop to signal from what layer a network should start train down\n",
    "depth=[18, 14, 10, 6, 3, 0]\n",
    "\n",
    "# build the VGG16 network\n",
    "for i in depth:\n",
    "    getResults(True,True,i)\n",
    "    getResults(False,True,i)\n",
    "    getResults(False,False,i)\n",
    "    getResults(True,False,i)"
   ]
  },
  {
   "cell_type": "code",
   "execution_count": 11,
   "metadata": {},
   "outputs": [
    {
     "name": "stdout",
     "output_type": "stream",
     "text": [
      "Using original weights from IMAGENET\n",
      "test accuracy: 0.631822242737\n",
      "test accuracy: 0.631822242737\n",
      "test accuracy: 0.631822242737\n",
      "test accuracy: 0.631822242737\n",
      "test accuracy: 0.631822242737\n",
      "test accuracy: 0.631822242737\n",
      "test accuracy: 0.631822242737\n",
      "test accuracy: 0.631822242737\n",
      "test accuracy: 0.631822242737\n"
     ]
    }
   ],
   "source": [
    "# test with imagenet weights\n",
    "trainedModel=getTestModel(None) \n",
    "for i in range(1,10):\n",
    "    prediction=trainedModel.predict_generator(test_generator,100)\n",
    "    print('test accuracy: '+str(np.sum(prediction)/len(prediction)))"
   ]
  }
 ],
 "metadata": {
  "kernelspec": {
   "display_name": "Python 3",
   "language": "python",
   "name": "python3"
  },
  "language_info": {
   "codemirror_mode": {
    "name": "ipython",
    "version": 3
   },
   "file_extension": ".py",
   "mimetype": "text/x-python",
   "name": "python",
   "nbconvert_exporter": "python",
   "pygments_lexer": "ipython3",
   "version": "3.5.2"
  }
 },
 "nbformat": 4,
 "nbformat_minor": 2
}
