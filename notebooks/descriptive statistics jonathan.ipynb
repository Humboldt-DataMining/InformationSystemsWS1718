{
 "cells": [
  {
   "cell_type": "code",
   "execution_count": 1,
   "metadata": {
    "ExecuteTime": {
     "end_time": "2018-01-07T22:32:26.140314Z",
     "start_time": "2018-01-07T22:32:20.689578Z"
    }
   },
   "outputs": [],
   "source": [
    "import pandas as pd\n",
    "import matplotlib.pyplot as plt\n",
    "import os"
   ]
  },
  {
   "cell_type": "code",
   "execution_count": 2,
   "metadata": {
    "ExecuteTime": {
     "end_time": "2018-01-07T22:32:26.219380Z",
     "start_time": "2018-01-07T22:32:26.194365Z"
    }
   },
   "outputs": [
    {
     "name": "stdout",
     "output_type": "stream",
     "text": [
      "working directory:  C:\\Users\\Joni\\Dropbox (Privat)\\CODE\\InformationSystemsWS1718\\notebooks\n",
      "data directory:     C:\\Users\\Joni\\Dropbox (Privat)\\CODE\\InformationSystemsWS1718\\data\n",
      "models directory:   C:\\Users\\Joni\\Dropbox (Privat)\\CODE\\InformationSystemsWS1718\\models\n"
     ]
    }
   ],
   "source": [
    "parent_dir = os.path.abspath(os.path.join(os.getcwd(), os.pardir))\n",
    "data_dir = os.path.join(parent_dir, 'data')\n",
    "models_dir = os.path.join(parent_dir, 'models')\n",
    "print('working directory: ', os.getcwd())\n",
    "print('data directory:    ', data_dir, )\n",
    "print('models directory:  ', models_dir)"
   ]
  },
  {
   "cell_type": "code",
   "execution_count": 3,
   "metadata": {
    "ExecuteTime": {
     "end_time": "2018-01-07T22:32:31.193051Z",
     "start_time": "2018-01-07T22:32:26.251410Z"
    },
    "scrolled": true
   },
   "outputs": [],
   "source": [
    "data_candidates = pd.read_csv(os.path.join(data_dir, 'fb_election_data_28112017.csv'))\n",
    "data_candidates = data_candidates[['id', 'from_name', 'message', 'Partei_ABK']] # drop other columns\n",
    "#data_party['message'] = data_party['message'].astype(str)"
   ]
  },
  {
   "cell_type": "code",
   "execution_count": 19,
   "metadata": {
    "ExecuteTime": {
     "end_time": "2018-01-07T23:19:30.392733Z",
     "start_time": "2018-01-07T23:19:30.213860Z"
    }
   },
   "outputs": [],
   "source": [
    "party_names = {'AfD': 'AfD',\n",
    "               'DIE LINKE': 'DIE LINKE',\n",
    "               'BÜNDNIS 90/DIE GRÜNEN': 'GRÜNE',\n",
    "               'CSU (Christlich-Soziale Union)': 'CSU',\n",
    "               'CDU': 'CDU',\n",
    "               'FDP': 'FDP',\n",
    "               'SPD': 'SPD'}\n",
    "data_parties =  pd.read_csv((os.path.join(data_dir, 'party_data.csv')))\n",
    "#data_parties.rename(columns={'from_id': 'id'}, inplace=True)\n",
    "data_parties['Partei_ABK'] = data_parties['from_name'].map(party_names)\n",
    "data_parties['from_name'] = data_parties['Partei_ABK'] + ' Party'\n",
    "data_parties = data_parties[['id', 'from_name', 'message', 'Partei_ABK']] # drop other columns"
   ]
  },
  {
   "cell_type": "code",
   "execution_count": 20,
   "metadata": {
    "ExecuteTime": {
     "end_time": "2018-01-07T23:19:36.993536Z",
     "start_time": "2018-01-07T23:19:35.199597Z"
    }
   },
   "outputs": [],
   "source": [
    "data = data_candidates.append(data_parties)\n",
    "data = data[data['message'].notnull()]\n",
    "data.index = pd.Index(range(len(data)))  # make sure the index are unique increasing numbers\n",
    "#data.to_pickle(os.path.join(data_dir, 'data_clean_4cols.pickle'))"
   ]
  },
  {
   "cell_type": "code",
   "execution_count": 77,
   "metadata": {
    "ExecuteTime": {
     "end_time": "2018-01-06T00:47:40.500065Z",
     "start_time": "2018-01-06T00:47:39.740773Z"
    }
   },
   "outputs": [],
   "source": [
    "data = pd.read_pickle(os.path.join(data_dir, 'data_clean_4cols.pickle'))"
   ]
  },
  {
   "cell_type": "code",
   "execution_count": 21,
   "metadata": {
    "ExecuteTime": {
     "end_time": "2018-01-07T23:19:37.653587Z",
     "start_time": "2018-01-07T23:19:37.624565Z"
    }
   },
   "outputs": [
    {
     "data": {
      "text/html": [
       "<div>\n",
       "<style scoped>\n",
       "    .dataframe tbody tr th:only-of-type {\n",
       "        vertical-align: middle;\n",
       "    }\n",
       "\n",
       "    .dataframe tbody tr th {\n",
       "        vertical-align: top;\n",
       "    }\n",
       "\n",
       "    .dataframe thead th {\n",
       "        text-align: right;\n",
       "    }\n",
       "</style>\n",
       "<table border=\"1\" class=\"dataframe\">\n",
       "  <thead>\n",
       "    <tr style=\"text-align: right;\">\n",
       "      <th></th>\n",
       "      <th>id</th>\n",
       "      <th>from_name</th>\n",
       "      <th>message</th>\n",
       "      <th>Partei_ABK</th>\n",
       "    </tr>\n",
       "  </thead>\n",
       "  <tbody>\n",
       "    <tr>\n",
       "      <th>3542</th>\n",
       "      <td>47694585682_10154634091850683</td>\n",
       "      <td>DIE LINKE Party</td>\n",
       "      <td>Zwei Tage vor der Bundestagswahl sind wir im W...</td>\n",
       "      <td>DIE LINKE</td>\n",
       "    </tr>\n",
       "    <tr>\n",
       "      <th>3543</th>\n",
       "      <td>47694585682_10154636553235683</td>\n",
       "      <td>DIE LINKE Party</td>\n",
       "      <td>Pascal Meiser, unser Direktkandidat in Berlin ...</td>\n",
       "      <td>DIE LINKE</td>\n",
       "    </tr>\n",
       "    <tr>\n",
       "      <th>3544</th>\n",
       "      <td>47694585682_10154636607885683</td>\n",
       "      <td>DIE LINKE Party</td>\n",
       "      <td>Zu Gast im Wahlquartier-Talk war Stefan Liebic...</td>\n",
       "      <td>DIE LINKE</td>\n",
       "    </tr>\n",
       "    <tr>\n",
       "      <th>3545</th>\n",
       "      <td>47694585682_10154636952725683</td>\n",
       "      <td>DIE LINKE Party</td>\n",
       "      <td>Sahra Wagenknecht: Ihre Stimme am 24. Septembe...</td>\n",
       "      <td>DIE LINKE</td>\n",
       "    </tr>\n",
       "    <tr>\n",
       "      <th>3546</th>\n",
       "      <td>47694585682_10154636960630683</td>\n",
       "      <td>DIE LINKE Party</td>\n",
       "      <td>Dietmar Bartsch: »Am Sonntag haben wir die Cha...</td>\n",
       "      <td>DIE LINKE</td>\n",
       "    </tr>\n",
       "  </tbody>\n",
       "</table>\n",
       "</div>"
      ],
      "text/plain": [
       "                                 id        from_name  \\\n",
       "3542  47694585682_10154634091850683  DIE LINKE Party   \n",
       "3543  47694585682_10154636553235683  DIE LINKE Party   \n",
       "3544  47694585682_10154636607885683  DIE LINKE Party   \n",
       "3545  47694585682_10154636952725683  DIE LINKE Party   \n",
       "3546  47694585682_10154636960630683  DIE LINKE Party   \n",
       "\n",
       "                                                message Partei_ABK  \n",
       "3542  Zwei Tage vor der Bundestagswahl sind wir im W...  DIE LINKE  \n",
       "3543  Pascal Meiser, unser Direktkandidat in Berlin ...  DIE LINKE  \n",
       "3544  Zu Gast im Wahlquartier-Talk war Stefan Liebic...  DIE LINKE  \n",
       "3545  Sahra Wagenknecht: Ihre Stimme am 24. Septembe...  DIE LINKE  \n",
       "3546  Dietmar Bartsch: »Am Sonntag haben wir die Cha...  DIE LINKE  "
      ]
     },
     "execution_count": 21,
     "metadata": {},
     "output_type": "execute_result"
    }
   ],
   "source": [
    "data_parties.tail()"
   ]
  },
  {
   "cell_type": "code",
   "execution_count": 6,
   "metadata": {
    "ExecuteTime": {
     "end_time": "2017-12-10T20:29:23.577184Z",
     "start_time": "2017-12-10T20:29:20.503495Z"
    },
    "collapsed": true,
    "scrolled": true
   },
   "outputs": [],
   "source": [
    "data['word_count'] = data['message'].str.count(' ') + 1"
   ]
  },
  {
   "cell_type": "code",
   "execution_count": 59,
   "metadata": {
    "ExecuteTime": {
     "end_time": "2017-12-10T19:41:15.236034Z",
     "start_time": "2017-12-10T19:41:15.211515Z"
    },
    "collapsed": true
   },
   "outputs": [],
   "source": [
    "leaders = ['Sahra Wagenknecht',\n",
    "'Dietmar Bartsch',\n",
    "'Katrin Göring-Eckardt',\n",
    "'Cem Özdemir',\n",
    "'Martin Schulz',\n",
    "'Angela Merkel',\n",
    "'Joachim Herrmann',\n",
    "'Alexander Gauland',\n",
    "'Alice Weidel']\n",
    "data['leader'] = data['from_name'].isin(leaders)\n",
    "leader_data = data[data['leader']]"
   ]
  },
  {
   "cell_type": "code",
   "execution_count": 112,
   "metadata": {
    "ExecuteTime": {
     "end_time": "2017-12-10T23:03:37.635837Z",
     "start_time": "2017-12-10T23:03:36.708178Z"
    },
    "scrolled": true
   },
   "outputs": [
    {
     "data": {
      "text/plain": [
       "(1001, 6)"
      ]
     },
     "execution_count": 112,
     "metadata": {},
     "output_type": "execute_result"
    }
   ],
   "source": [
    "candidate_summary = pd.DataFrame()\n",
    "candidate_summary = (data\n",
    "                  .drop(['id', 'message', 'word_count'], axis=1)\n",
    "                  .drop_duplicates('from_name')\n",
    "                  .set_index('from_name'))\n",
    "candidate_summary['mean_word_count'] = data.groupby('from_name')['word_count'].mean()\n",
    "candidate_summary['median_word_count'] = data.groupby('from_name')['word_count'].median()\n",
    "candidate_summary['post_count'] = data['from_name'].value_counts()\n",
    "candidate_summary['total words'] =  data.groupby('from_name')['word_count'].sum()\n",
    "candidate_summary.shape"
   ]
  },
  {
   "cell_type": "code",
   "execution_count": 113,
   "metadata": {
    "ExecuteTime": {
     "end_time": "2017-12-10T23:03:39.584220Z",
     "start_time": "2017-12-10T23:03:39.507164Z"
    },
    "scrolled": true
   },
   "outputs": [
    {
     "data": {
      "text/html": [
       "<div>\n",
       "<style scoped>\n",
       "    .dataframe tbody tr th:only-of-type {\n",
       "        vertical-align: middle;\n",
       "    }\n",
       "\n",
       "    .dataframe tbody tr th {\n",
       "        vertical-align: top;\n",
       "    }\n",
       "\n",
       "    .dataframe thead th {\n",
       "        text-align: right;\n",
       "    }\n",
       "</style>\n",
       "<table border=\"1\" class=\"dataframe\">\n",
       "  <thead>\n",
       "    <tr style=\"text-align: right;\">\n",
       "      <th></th>\n",
       "      <th>Partei_ABK</th>\n",
       "      <th>leader</th>\n",
       "      <th>mean_word_count</th>\n",
       "      <th>median_word_count</th>\n",
       "      <th>post_count</th>\n",
       "      <th>total words</th>\n",
       "    </tr>\n",
       "    <tr>\n",
       "      <th>from_name</th>\n",
       "      <th></th>\n",
       "      <th></th>\n",
       "      <th></th>\n",
       "      <th></th>\n",
       "      <th></th>\n",
       "      <th></th>\n",
       "    </tr>\n",
       "  </thead>\n",
       "  <tbody>\n",
       "    <tr>\n",
       "      <th>Alice Weidel</th>\n",
       "      <td>AfD</td>\n",
       "      <td>True</td>\n",
       "      <td>72.130221</td>\n",
       "      <td>40.0</td>\n",
       "      <td>407</td>\n",
       "      <td>29357</td>\n",
       "    </tr>\n",
       "    <tr>\n",
       "      <th>Angela Merkel</th>\n",
       "      <td>CDU</td>\n",
       "      <td>True</td>\n",
       "      <td>49.910638</td>\n",
       "      <td>43.0</td>\n",
       "      <td>235</td>\n",
       "      <td>11729</td>\n",
       "    </tr>\n",
       "    <tr>\n",
       "      <th>Joachim Herrmann</th>\n",
       "      <td>CSU</td>\n",
       "      <td>True</td>\n",
       "      <td>36.069606</td>\n",
       "      <td>20.0</td>\n",
       "      <td>431</td>\n",
       "      <td>15546</td>\n",
       "    </tr>\n",
       "    <tr>\n",
       "      <th>Dietmar Bartsch</th>\n",
       "      <td>DIE LINKE</td>\n",
       "      <td>True</td>\n",
       "      <td>75.688761</td>\n",
       "      <td>64.0</td>\n",
       "      <td>347</td>\n",
       "      <td>26264</td>\n",
       "    </tr>\n",
       "    <tr>\n",
       "      <th>Sahra Wagenknecht</th>\n",
       "      <td>DIE LINKE</td>\n",
       "      <td>True</td>\n",
       "      <td>99.632836</td>\n",
       "      <td>88.0</td>\n",
       "      <td>335</td>\n",
       "      <td>33377</td>\n",
       "    </tr>\n",
       "    <tr>\n",
       "      <th>Katrin Göring-Eckardt</th>\n",
       "      <td>GRÜNE</td>\n",
       "      <td>True</td>\n",
       "      <td>42.662116</td>\n",
       "      <td>38.0</td>\n",
       "      <td>293</td>\n",
       "      <td>12500</td>\n",
       "    </tr>\n",
       "    <tr>\n",
       "      <th>Cem Özdemir</th>\n",
       "      <td>GRÜNE</td>\n",
       "      <td>True</td>\n",
       "      <td>37.789625</td>\n",
       "      <td>25.0</td>\n",
       "      <td>347</td>\n",
       "      <td>13113</td>\n",
       "    </tr>\n",
       "    <tr>\n",
       "      <th>Martin Schulz</th>\n",
       "      <td>SPD</td>\n",
       "      <td>True</td>\n",
       "      <td>64.505181</td>\n",
       "      <td>50.0</td>\n",
       "      <td>386</td>\n",
       "      <td>24899</td>\n",
       "    </tr>\n",
       "  </tbody>\n",
       "</table>\n",
       "</div>"
      ],
      "text/plain": [
       "                      Partei_ABK  leader  mean_word_count  median_word_count  \\\n",
       "from_name                                                                      \n",
       "Alice Weidel                 AfD    True        72.130221               40.0   \n",
       "Angela Merkel                CDU    True        49.910638               43.0   \n",
       "Joachim Herrmann             CSU    True        36.069606               20.0   \n",
       "Dietmar Bartsch        DIE LINKE    True        75.688761               64.0   \n",
       "Sahra Wagenknecht      DIE LINKE    True        99.632836               88.0   \n",
       "Katrin Göring-Eckardt      GRÜNE    True        42.662116               38.0   \n",
       "Cem Özdemir                GRÜNE    True        37.789625               25.0   \n",
       "Martin Schulz                SPD    True        64.505181               50.0   \n",
       "\n",
       "                       post_count  total words  \n",
       "from_name                                       \n",
       "Alice Weidel                  407        29357  \n",
       "Angela Merkel                 235        11729  \n",
       "Joachim Herrmann              431        15546  \n",
       "Dietmar Bartsch               347        26264  \n",
       "Sahra Wagenknecht             335        33377  \n",
       "Katrin Göring-Eckardt         293        12500  \n",
       "Cem Özdemir                   347        13113  \n",
       "Martin Schulz                 386        24899  "
      ]
     },
     "execution_count": 113,
     "metadata": {},
     "output_type": "execute_result"
    }
   ],
   "source": [
    "candidate_summary[candidate_summary['leader']].sort_values('Partei_ABK')\n",
    "#candidate_data.sort_values('post_count', ascending=False)"
   ]
  },
  {
   "cell_type": "code",
   "execution_count": 114,
   "metadata": {
    "ExecuteTime": {
     "end_time": "2017-12-10T23:03:59.564639Z",
     "start_time": "2017-12-10T23:03:59.356491Z"
    },
    "collapsed": true
   },
   "outputs": [],
   "source": [
    "party_summary = pd.DataFrame()\n",
    "party_summary['mean_word_count'] = data.groupby('Partei_ABK')['word_count'].mean()\n",
    "party_summary['post_count'] = data['Partei_ABK'].value_counts()\n",
    "party_summary['candidate_count'] = candidate_summary['Partei_ABK'].value_counts()\n",
    "party_summary['posts_per_candidate'] = party_summary['post_count'] / party_summary['candidate_count']"
   ]
  },
  {
   "cell_type": "code",
   "execution_count": 115,
   "metadata": {
    "ExecuteTime": {
     "end_time": "2017-12-10T23:04:00.990650Z",
     "start_time": "2017-12-10T23:04:00.964632Z"
    },
    "scrolled": true
   },
   "outputs": [
    {
     "data": {
      "text/html": [
       "<div>\n",
       "<style scoped>\n",
       "    .dataframe tbody tr th:only-of-type {\n",
       "        vertical-align: middle;\n",
       "    }\n",
       "\n",
       "    .dataframe tbody tr th {\n",
       "        vertical-align: top;\n",
       "    }\n",
       "\n",
       "    .dataframe thead th {\n",
       "        text-align: right;\n",
       "    }\n",
       "</style>\n",
       "<table border=\"1\" class=\"dataframe\">\n",
       "  <thead>\n",
       "    <tr style=\"text-align: right;\">\n",
       "      <th></th>\n",
       "      <th>mean_word_count</th>\n",
       "      <th>post_count</th>\n",
       "      <th>candidate_count</th>\n",
       "      <th>posts_per_candidate</th>\n",
       "    </tr>\n",
       "    <tr>\n",
       "      <th>Partei_ABK</th>\n",
       "      <th></th>\n",
       "      <th></th>\n",
       "      <th></th>\n",
       "      <th></th>\n",
       "    </tr>\n",
       "  </thead>\n",
       "  <tbody>\n",
       "    <tr>\n",
       "      <th>AfD</th>\n",
       "      <td>68.173439</td>\n",
       "      <td>16340</td>\n",
       "      <td>123</td>\n",
       "      <td>132.845528</td>\n",
       "    </tr>\n",
       "    <tr>\n",
       "      <th>CDU</th>\n",
       "      <td>43.353218</td>\n",
       "      <td>39242</td>\n",
       "      <td>208</td>\n",
       "      <td>188.663462</td>\n",
       "    </tr>\n",
       "    <tr>\n",
       "      <th>CSU</th>\n",
       "      <td>37.378655</td>\n",
       "      <td>7627</td>\n",
       "      <td>45</td>\n",
       "      <td>169.488889</td>\n",
       "    </tr>\n",
       "    <tr>\n",
       "      <th>DIE LINKE</th>\n",
       "      <td>62.494820</td>\n",
       "      <td>16024</td>\n",
       "      <td>110</td>\n",
       "      <td>145.672727</td>\n",
       "    </tr>\n",
       "    <tr>\n",
       "      <th>FDP</th>\n",
       "      <td>35.287935</td>\n",
       "      <td>21293</td>\n",
       "      <td>172</td>\n",
       "      <td>123.796512</td>\n",
       "    </tr>\n",
       "    <tr>\n",
       "      <th>GRÜNE</th>\n",
       "      <td>39.506401</td>\n",
       "      <td>14451</td>\n",
       "      <td>94</td>\n",
       "      <td>153.734043</td>\n",
       "    </tr>\n",
       "    <tr>\n",
       "      <th>SPD</th>\n",
       "      <td>40.526667</td>\n",
       "      <td>58986</td>\n",
       "      <td>249</td>\n",
       "      <td>236.891566</td>\n",
       "    </tr>\n",
       "  </tbody>\n",
       "</table>\n",
       "</div>"
      ],
      "text/plain": [
       "            mean_word_count  post_count  candidate_count  posts_per_candidate\n",
       "Partei_ABK                                                                   \n",
       "AfD               68.173439       16340              123           132.845528\n",
       "CDU               43.353218       39242              208           188.663462\n",
       "CSU               37.378655        7627               45           169.488889\n",
       "DIE LINKE         62.494820       16024              110           145.672727\n",
       "FDP               35.287935       21293              172           123.796512\n",
       "GRÜNE             39.506401       14451               94           153.734043\n",
       "SPD               40.526667       58986              249           236.891566"
      ]
     },
     "execution_count": 115,
     "metadata": {},
     "output_type": "execute_result"
    }
   ],
   "source": [
    "party_summary"
   ]
  },
  {
   "cell_type": "code",
   "execution_count": 90,
   "metadata": {
    "ExecuteTime": {
     "end_time": "2017-12-10T20:25:21.925281Z",
     "start_time": "2017-12-10T20:25:21.399755Z"
    }
   },
   "outputs": [
    {
     "data": {
      "image/png": "[encoded data removed]",
      "text/plain": [
       "<matplotlib.figure.Figure at 0x20fcc93f3c8>"
      ]
     },
     "metadata": {},
     "output_type": "display_data"
    }
   ],
   "source": [
    "plt.figure()\n",
    "n, bins, patches = plt.hist(x=data['word_count'], bins=100)\n",
    "plt.show()"
   ]
  },
  {
   "cell_type": "code",
   "execution_count": 101,
   "metadata": {
    "ExecuteTime": {
     "end_time": "2017-12-10T23:04:00.990650Z",
     "start_time": "2017-12-10T23:04:00.964632Z"
    }
   },
   "outputs": [
    {
     "data": {
      "image/png": "[encoded data removed]",
      "text/plain": [
       "<matplotlib.figure.Figure at 0x20fb960dba8>"
      ]
     },
     "metadata": {},
     "output_type": "display_data"
    }
   ],
   "source": [
    "plt.figure()\n",
    "n, bins, patches = plt.hist(x=data['word_count'][data['word_count']<200], bins=200)\n",
    "plt.xlabel('# words in post')\n",
    "plt.ylabel('# of posts')\n",
    "plt.title('Histogram of post lengths truncated at 200')\n",
    "plt.show()"
   ]
  },
  {
   "cell_type": "code",
   "execution_count": 103,
   "metadata": {
    "ExecuteTime": {
     "end_time": "2017-12-10T20:33:38.987772Z",
     "start_time": "2017-12-10T20:33:38.640995Z"
    }
   },
   "outputs": [
    {
     "data": {
      "image/png": "[encoded data removed]",
      "text/plain": [
       "<matplotlib.figure.Figure at 0x20fcea92470>"
      ]
     },
     "metadata": {},
     "output_type": "display_data"
    }
   ],
   "source": [
    "plt.figure()\n",
    "n, bins, patches = plt.hist(x=data['word_count'][data['word_count']<50], bins=50)\n",
    "plt.xlabel('# words in post')\n",
    "plt.ylabel('# of posts')\n",
    "plt.title('Histogram of post lengths truncated at 30')\n",
    "plt.show()"
   ]
  }
 ],
 "metadata": {
  "kernelspec": {
   "display_name": "Python 3",
   "language": "python",
   "name": "python3"
  },
  "language_info": {
   "codemirror_mode": {
    "name": "ipython",
    "version": 3
   },
   "file_extension": ".py",
   "mimetype": "text/x-python",
   "name": "python",
   "nbconvert_exporter": "python",
   "pygments_lexer": "ipython3",
   "version": "3.6.4"
  },
  "varInspector": {
   "cols": {
    "lenName": 16,
    "lenType": 16,
    "lenVar": 40
   },
   "kernels_config": {
    "python": {
     "delete_cmd_postfix": "",
     "delete_cmd_prefix": "del ",
     "library": "var_list.py",
     "varRefreshCmd": "print(var_dic_list())"
    },
    "r": {
     "delete_cmd_postfix": ") ",
     "delete_cmd_prefix": "rm(",
     "library": "var_list.r",
     "varRefreshCmd": "cat(var_dic_list()) "
    }
   },
   "types_to_exclude": [
    "module",
    "function",
    "builtin_function_or_method",
    "instance",
    "_Feature"
   ],
   "window_display": false
  }
 },
 "nbformat": 4,
 "nbformat_minor": 2
}
