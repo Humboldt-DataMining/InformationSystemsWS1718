{
 "cells": [
  {
   "cell_type": "markdown",
   "metadata": {},
   "source": [
    "# What can I do with a trained model?"
   ]
  },
  {
   "cell_type": "code",
   "execution_count": 8,
   "metadata": {},
   "outputs": [],
   "source": [
    "import gensim\n",
    "\n",
    "model = gensim.models.Doc2Vec.load('../models/Doc2Vec(dmm,d100,n5,w10,mc5,s0.001,t4)_e20.model')"
   ]
  },
  {
   "cell_type": "markdown",
   "metadata": {},
   "source": [
    "## adding up document vectors"
   ]
  },
  {
   "cell_type": "code",
   "execution_count": 61,
   "metadata": {},
   "outputs": [
    {
     "data": {
      "text/plain": [
       "array(['Dr. Roy Kühne', 'Gitta Connemann'], dtype=object)"
      ]
     },
     "execution_count": 61,
     "metadata": {},
     "output_type": "execute_result"
    }
   ],
   "source": [
    "sample_candidates = candidate_data.from_name.sample(2).as_matrix()\n",
    "sample_candidates"
   ]
  },
  {
   "cell_type": "code",
   "execution_count": 62,
   "metadata": {},
   "outputs": [],
   "source": [
    "angi_martin = model.docvecs[sample_candidates[0]] + model.docvecs[sample_candidates[1]]"
   ]
  },
  {
   "cell_type": "markdown",
   "metadata": {},
   "source": [
    "## finding similar docs aka candidates"
   ]
  },
  {
   "cell_type": "code",
   "execution_count": 241,
   "metadata": {},
   "outputs": [
    {
     "data": {
      "text/plain": [
       "[('Dr. Roy Kühne', 0.9044684171676636),\n",
       " ('Gitta Connemann', 0.778700590133667),\n",
       " ('Maik Beermann', 0.5981024503707886),\n",
       " ('Ute Bertram', 0.5968872308731079),\n",
       " ('Albert Stegemann', 0.5919886827468872),\n",
       " ('Svenja Stadler', 0.5919804573059082),\n",
       " ('Antje Lezius', 0.5913103222846985),\n",
       " ('Dr. Georg Kippels MdB', 0.5858489274978638),\n",
       " ('Maria Flachsbarth', 0.5761417150497437),\n",
       " ('Ingrid Pahlmann', 0.5735721588134766)]"
      ]
     },
     "execution_count": 241,
     "metadata": {},
     "output_type": "execute_result"
    }
   ],
   "source": [
    "model.docvecs.most_similar([combi_docvec], topn=10)"
   ]
  },
  {
   "cell_type": "markdown",
   "metadata": {},
   "source": [
    "## doing the same with word vectors"
   ]
  },
  {
   "cell_type": "code",
   "execution_count": 197,
   "metadata": {},
   "outputs": [
    {
     "data": {
      "text/plain": [
       "[('frau', 0.6424117684364319),\n",
       " ('kanzlerin', 0.5935326218605042),\n",
       " ('cdu-kanzlerin', 0.5690233111381531),\n",
       " ('chancellor', 0.532566487789154),\n",
       " ('selbstgefällige', 0.5286470651626587),\n",
       " ('digitalgipfel', 0.5043079853057861),\n",
       " ('bundeskanzlerin', 0.4942646920681),\n",
       " ('schulz', 0.49360403418540955),\n",
       " ('vasallen', 0.4840382933616638),\n",
       " ('klimakanzlerin', 0.476779043674469)]"
      ]
     },
     "execution_count": 197,
     "metadata": {},
     "output_type": "execute_result"
    }
   ],
   "source": [
    "model.wv.most_similar('angela')"
   ]
  },
  {
   "cell_type": "code",
   "execution_count": 185,
   "metadata": {},
   "outputs": [
    {
     "data": {
      "text/plain": [
       "[('merkel', 0.7404574751853943),\n",
       " ('#merkel', 0.7184534668922424),\n",
       " ('bundeskanzlerin', 0.6520742177963257),\n",
       " ('merkels', 0.6482515335083008),\n",
       " ('kanzlerin', 0.614572286605835),\n",
       " ('leyen', 0.586134135723114),\n",
       " ('wanka', 0.550631046295166),\n",
       " ('özoguz', 0.5457637310028076),\n",
       " ('freimuth', 0.5179838538169861),\n",
       " ('verteidigungsministerin', 0.5043291449546814)]"
      ]
     },
     "execution_count": 185,
     "metadata": {},
     "output_type": "execute_result"
    }
   ],
   "source": [
    "model.wv.most_similar([model.wv.word_vec('merkel') + model.wv.word_vec('frau')])"
   ]
  },
  {
   "cell_type": "code",
   "execution_count": 199,
   "metadata": {},
   "outputs": [
    {
     "data": {
      "text/plain": [
       "[('klimakrise', 0.7090107798576355),\n",
       " ('klimawandels', 0.6817324757575989),\n",
       " ('erderwärmung', 0.6497151255607605),\n",
       " ('klimakatastrophe', 0.6454370021820068),\n",
       " ('globale', 0.6093121767044067),\n",
       " ('antibiotika-resistenzen', 0.6051826477050781),\n",
       " ('planeten', 0.6038367748260498),\n",
       " ('klimaschutz', 0.5980411767959595),\n",
       " ('weltweite', 0.5836989879608154),\n",
       " ('globalen', 0.5797817707061768)]"
      ]
     },
     "execution_count": 199,
     "metadata": {},
     "output_type": "execute_result"
    }
   ],
   "source": [
    "model.wv.most_similar('klimawandel')"
   ]
  },
  {
   "cell_type": "code",
   "execution_count": 78,
   "metadata": {},
   "outputs": [
    {
     "data": {
      "text/plain": [
       "[('abgaben', 0.6442238688468933),\n",
       " ('sozialabgaben', 0.6206598281860352),\n",
       " ('steuerpolitik', 0.5621953010559082),\n",
       " ('steuersenkung', 0.5603601336479187),\n",
       " ('steuererhöhungen', 0.5326052308082581),\n",
       " ('steuersenkungen', 0.532456636428833),\n",
       " ('steuerentlastung', 0.5259393453598022),\n",
       " ('steuer', 0.5254241228103638),\n",
       " ('entlasten', 0.5247071385383606),\n",
       " ('renteneintrittsalter', 0.5187385082244873)]"
      ]
     },
     "execution_count": 78,
     "metadata": {},
     "output_type": "execute_result"
    }
   ],
   "source": [
    "model.wv.most_similar('steuern')"
   ]
  },
  {
   "cell_type": "code",
   "execution_count": 172,
   "metadata": {
    "scrolled": true
   },
   "outputs": [
    {
     "data": {
      "text/plain": [
       "[('legalisierung', 0.7488616704940796),\n",
       " ('jugendschutz', 0.6169794201850891),\n",
       " ('freigabe', 0.5697334408760071),\n",
       " ('übertragbarer', 0.5480762124061584),\n",
       " ('kontrollierte', 0.5453542470932007),\n",
       " ('epidemiologischen', 0.5434899926185608),\n",
       " ('legalisiert', 0.5389453172683716),\n",
       " ('verschreibungspflichtige', 0.531269907951355),\n",
       " ('drogenpolitik', 0.5300577878952026),\n",
       " ('legitimieren', 0.5255962610244751)]"
      ]
     },
     "execution_count": 172,
     "metadata": {},
     "output_type": "execute_result"
    }
   ],
   "source": [
    "model.wv.most_similar('cannabis')"
   ]
  },
  {
   "cell_type": "code",
   "execution_count": 175,
   "metadata": {},
   "outputs": [
    {
     "data": {
      "text/plain": [
       "[('hauptstadt', 0.9128109216690063),\n",
       " ('berlin', 0.6176927089691162),\n",
       " ('bundeshauptstadt', 0.6112139225006104),\n",
       " ('republik', 0.5610524415969849),\n",
       " ('deutschland', 0.5041688680648804),\n",
       " ('wien', 0.47922036051750183),\n",
       " ('topographie', 0.47701019048690796),\n",
       " ('singapur', 0.47468575835227966),\n",
       " ('stadtrundfahrt', 0.47139203548431396),\n",
       " ('bundeskanzleramt', 0.4665265679359436)]"
      ]
     },
     "execution_count": 175,
     "metadata": {},
     "output_type": "execute_result"
    }
   ],
   "source": [
    "model.wv.most_similar([model.wv.word_vec('hauptstadt') + model.wv.word_vec('deutschland')/2])"
   ]
  },
  {
   "cell_type": "markdown",
   "metadata": {},
   "source": [
    "## which word does not fit in?"
   ]
  },
  {
   "cell_type": "code",
   "execution_count": 256,
   "metadata": {},
   "outputs": [
    {
     "data": {
      "text/plain": [
       "'merkel'"
      ]
     },
     "execution_count": 256,
     "metadata": {},
     "output_type": "execute_result"
    }
   ],
   "source": [
    "model.wv.doesnt_match(\"bundeskanzler merkel regierung schulz\".split())"
   ]
  },
  {
   "cell_type": "code",
   "execution_count": 255,
   "metadata": {},
   "outputs": [
    {
     "data": {
      "text/plain": [
       "'höcke'"
      ]
     },
     "execution_count": 255,
     "metadata": {},
     "output_type": "execute_result"
    }
   ],
   "source": [
    "model.wv.doesnt_match(\"weidel gauland höcke irmer\".split())"
   ]
  },
  {
   "cell_type": "code",
   "execution_count": 250,
   "metadata": {},
   "outputs": [
    {
     "data": {
      "text/plain": [
       "'europa'"
      ]
     },
     "execution_count": 250,
     "metadata": {},
     "output_type": "execute_result"
    }
   ],
   "source": [
    "model.wv.doesnt_match(\"europa deutschland spanien frankreich\".split())"
   ]
  },
  {
   "cell_type": "markdown",
   "metadata": {},
   "source": [
    "## which candidate/party does not fit in?"
   ]
  },
  {
   "cell_type": "code",
   "execution_count": 261,
   "metadata": {},
   "outputs": [
    {
     "data": {
      "text/plain": [
       "'Alice Weidel'"
      ]
     },
     "execution_count": 261,
     "metadata": {},
     "output_type": "execute_result"
    }
   ],
   "source": [
    "model.docvecs.doesnt_match(['Angela Merkel', 'Martin Schulz', 'Christian Lindner', 'Dietmar Bartsch', 'Cem Özdemir', 'Alice Weidel', 'Joachim Herrmann'])"
   ]
  },
  {
   "cell_type": "code",
   "execution_count": 270,
   "metadata": {},
   "outputs": [
    {
     "data": {
      "text/plain": [
       "'AfD Party'"
      ]
     },
     "execution_count": 270,
     "metadata": {},
     "output_type": "execute_result"
    }
   ],
   "source": [
    "model.docvecs.doesnt_match(['SPD Party', 'CDU Party', 'FDP Party', 'DIE LINKE Party', 'CSU Party', 'GRÜNE Party', 'AfD Party'])"
   ]
  },
  {
   "cell_type": "markdown",
   "metadata": {},
   "source": [
    "## infer new data\n",
    "\n",
    "post from **Martin Schulz** after the election"
   ]
  },
  {
   "cell_type": "code",
   "execution_count": 240,
   "metadata": {},
   "outputs": [
    {
     "data": {
      "text/plain": [
       "[('146943', 0.8924677968025208),\n",
       " ('147', 0.8910102844238281),\n",
       " ('49850', 0.889638364315033),\n",
       " ('107631', 0.8883894085884094),\n",
       " ('9339', 0.8877042531967163),\n",
       " ('103717', 0.8872299790382385),\n",
       " ('101926', 0.8843702077865601),\n",
       " ('66186', 0.8834260702133179),\n",
       " ('169742', 0.8825559616088867),\n",
       " ('162227', 0.8819050192832947)]"
      ]
     },
     "execution_count": 240,
     "metadata": {},
     "output_type": "execute_result"
    }
   ],
   "source": [
    "model.docvecs.most_similar([model.infer_vector('Solidarität ist für mich kein abstrakter Begriff. Solidarität ist für mich Alltag. Sie steht nicht nur seit vielen Jahrzehnten im Zentrum meines ganzen politischen Denkens und Handelns. Sondern ich erlebe sie jeden Tag, ganz persönlich. Ich habe sie im Wahlkampf erlebt. Und ich erfahre sie in der aktuellen, schwierigen politischen Lage. Von Freunden und Angehörigen, von Genossinnen und Genossen. Und ich hatte das große Glück, als ich in meiner Jugend strauchelte, von anderen aufgefangen zu werden. Damals waren dies die Jusos in meiner Heimatstadt Würselen. So kam ich zur SPD. Denn hier merkte ich: Das war nicht nur ein Wort. In der Sozialdemokratie wird Solidarität gelebt. Ohne ist die SPD für mich gar nicht denkbar.')])"
   ]
  }
 ],
 "metadata": {
  "kernelspec": {
   "display_name": "Python 3",
   "language": "python",
   "name": "python3"
  },
  "language_info": {
   "codemirror_mode": {
    "name": "ipython",
    "version": 3
   },
   "file_extension": ".py",
   "mimetype": "text/x-python",
   "name": "python",
   "nbconvert_exporter": "python",
   "pygments_lexer": "ipython3",
   "version": "3.6.3"
  }
 },
 "nbformat": 4,
 "nbformat_minor": 2
}
