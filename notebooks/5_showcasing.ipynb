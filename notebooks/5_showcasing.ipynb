{
 "cells": [
  {
   "cell_type": "markdown",
   "metadata": {},
   "source": [
    "# What can I do with a trained model?"
   ]
  },
  {
   "cell_type": "code",
   "execution_count": 1,
   "metadata": {},
   "outputs": [],
   "source": [
    "import gensim\n",
    "import pandas as pd\n",
    "import os\n",
    "\n",
    "model = gensim.models.Doc2Vec.load('../models/Doc2Vec(dmm,d100,n5,w10,mc5,s0.001,t4)_e20.model')"
   ]
  },
  {
   "cell_type": "markdown",
   "metadata": {
    "heading_collapsed": true
   },
   "source": [
    "## adding up document vectors"
   ]
  },
  {
   "cell_type": "code",
   "execution_count": 3,
   "metadata": {
    "hidden": true
   },
   "outputs": [
    {
     "data": {
      "text/plain": [
       "array(['Heribert Hirte', 'Lisa Badum'], dtype=object)"
      ]
     },
     "execution_count": 3,
     "metadata": {},
     "output_type": "execute_result"
    }
   ],
   "source": [
    "data2 = pd.read_pickle(os.path.join('../data/data_clean_4cols.pickle'))\n",
    "candidate_data = (data2.drop(['id', 'message'], axis=1)\n",
    "                      .drop_duplicates('from_name')\n",
    "#                      .set_index('from_name')\n",
    "                 )\n",
    "\n",
    "sample_candidates = candidate_data.from_name.sample(2).as_matrix()\n",
    "sample_candidates"
   ]
  },
  {
   "cell_type": "code",
   "execution_count": 4,
   "metadata": {
    "hidden": true
   },
   "outputs": [
    {
     "data": {
      "text/plain": [
       "array([ -2.15069890e+00,   1.04310036e+01,  -5.63390255e+00,\n",
       "         2.10258722e+00,   2.37521434e+00,   1.16004324e+00,\n",
       "        -1.14692366e+00,  -4.73722029e+00,  -3.18874931e+00,\n",
       "        -2.00902057e+00,  -6.37173891e+00,   5.36194372e+00,\n",
       "         3.09789371e+00,   7.02611446e+00,  -1.06238616e+00,\n",
       "         9.90254402e-01,  -4.11244392e+00,  -7.54742336e+00,\n",
       "         6.52550840e+00,  -3.82347918e+00,  -1.64124811e+00,\n",
       "        -4.24900866e+00,   2.89007616e+00,   1.13611305e+00,\n",
       "        -3.19058108e+00,  -5.62547588e+00,  -5.47747231e+00,\n",
       "         1.35270989e+00,  -1.42251742e+00,  -1.02657723e+00,\n",
       "         2.40497684e+00,  -1.37647307e+00,   3.35729861e+00,\n",
       "        -1.13115883e+00,  -5.10885477e-01,   3.94553614e+00,\n",
       "         3.26622605e-01,  -1.62215900e+00,  -7.30150938e-03,\n",
       "         2.18006134e+00,   7.33575702e-01,   1.62484455e+00,\n",
       "         8.19912791e-01,  -2.21390069e-01,  -4.18909693e+00,\n",
       "        -2.07156849e+00,  -4.11328411e+00,   3.30910158e+00,\n",
       "        -1.40015578e+00,   1.88640738e+00,   4.42922211e+00,\n",
       "        -4.19148350e+00,  -4.21022987e+00,   7.43768597e+00,\n",
       "        -3.24040961e+00,  -1.71893752e+00,   4.49862385e+00,\n",
       "        -9.98205245e-02,  -5.88604927e-01,  -3.26992750e-01,\n",
       "        -6.18788433e+00,  -2.19648314e+00,   4.94958305e+00,\n",
       "         6.06817055e+00,  -1.42496943e-01,   1.08766258e-01,\n",
       "         8.11183453e-01,  -4.38354397e+00,   9.31469154e+00,\n",
       "        -7.22369671e+00,   4.65498495e+00,  -7.99648857e+00,\n",
       "         3.88701200e+00,   6.55980730e+00,  -1.03314424e+00,\n",
       "        -2.13900137e+00,  -5.86892319e+00,  -7.54699707e-02,\n",
       "        -5.26557589e+00,   6.11365414e+00,   3.78870988e+00,\n",
       "         3.28012443e+00,   3.76146770e+00,   1.55755353e+00,\n",
       "        -2.98283553e+00,  -7.61491418e-01,   6.74286067e-01,\n",
       "        -7.16881633e-01,   1.39539313e+00,  -4.51074696e+00,\n",
       "         5.32313108e+00,  -2.31181169e+00,   9.28581595e-01,\n",
       "         6.60154152e+00,  -5.75614977e+00,   1.01965225e+00,\n",
       "        -8.38140202e+00,  -5.65704632e+00,  -6.44780874e+00,\n",
       "         4.48480368e-01], dtype=float32)"
      ]
     },
     "execution_count": 4,
     "metadata": {},
     "output_type": "execute_result"
    }
   ],
   "source": [
    "combi_docvec = model.docvecs[sample_candidates[0]] + model.docvecs[sample_candidates[1]]\n",
    "combi_docvec"
   ]
  },
  {
   "cell_type": "markdown",
   "metadata": {
    "heading_collapsed": true
   },
   "source": [
    "## finding similar docs aka candidates"
   ]
  },
  {
   "cell_type": "code",
   "execution_count": 5,
   "metadata": {
    "hidden": true
   },
   "outputs": [
    {
     "data": {
      "text/plain": [
       "[('Heribert Hirte', 0.7352956533432007),\n",
       " ('Lisa Badum', 0.7146824598312378),\n",
       " ('Paul Bunjes', 0.7091944813728333),\n",
       " ('Lisa Paus', 0.6744884848594666),\n",
       " ('11153', 0.6681756973266602),\n",
       " ('56620', 0.6572266221046448),\n",
       " ('Katrin Göring-Eckardt', 0.6563804149627686),\n",
       " ('131808', 0.6557844877243042),\n",
       " ('61830', 0.652137279510498),\n",
       " ('123133', 0.6505974531173706)]"
      ]
     },
     "execution_count": 5,
     "metadata": {},
     "output_type": "execute_result"
    }
   ],
   "source": [
    "model.docvecs.most_similar([combi_docvec], topn=10)"
   ]
  },
  {
   "cell_type": "markdown",
   "metadata": {},
   "source": [
    "## doing the same with word vectors"
   ]
  },
  {
   "cell_type": "code",
   "execution_count": 2,
   "metadata": {},
   "outputs": [
    {
     "data": {
      "text/plain": [
       "[('digitalen', 0.5778788328170776),\n",
       " ('4.0', 0.5616430044174194),\n",
       " ('digitale', 0.5599273443222046),\n",
       " ('innovationen', 0.5480508804321289),\n",
       " ('automatisierung', 0.5448926091194153),\n",
       " ('innovation', 0.5181348919868469),\n",
       " ('zukunftsthemen', 0.4910086393356323),\n",
       " ('arbeitswelt', 0.4888453483581543),\n",
       " ('#digitalisierung', 0.4819645583629608),\n",
       " ('e-government', 0.4813412129878998)]"
      ]
     },
     "execution_count": 2,
     "metadata": {},
     "output_type": "execute_result"
    }
   ],
   "source": [
    "model.wv.most_similar('digitalisierung')"
   ]
  },
  {
   "cell_type": "code",
   "execution_count": 7,
   "metadata": {},
   "outputs": [
    {
     "data": {
      "text/plain": [
       "[('merkel', 0.7445380091667175),\n",
       " ('#merkel', 0.6758671998977661),\n",
       " ('merkels', 0.6347646117210388),\n",
       " ('bundeskanzlerin', 0.6173468828201294),\n",
       " ('kanzlerin', 0.578707218170166),\n",
       " ('özoguz', 0.5266203284263611),\n",
       " ('freimuth', 0.47064584493637085),\n",
       " ('regierungschefin', 0.4616911709308624),\n",
       " ('wanka', 0.46004027128219604),\n",
       " ('bauchgefühl', 0.4583378732204437)]"
      ]
     },
     "execution_count": 7,
     "metadata": {},
     "output_type": "execute_result"
    }
   ],
   "source": [
    "model.wv.most_similar([model.wv.word_vec('merkel') + model.wv.word_vec('frau')])"
   ]
  },
  {
   "cell_type": "code",
   "execution_count": 8,
   "metadata": {},
   "outputs": [
    {
     "data": {
      "text/plain": [
       "[('klimawandels', 0.6018847227096558),\n",
       " ('klimakrise', 0.5960733890533447),\n",
       " ('klimaschutz', 0.5842841267585754),\n",
       " ('erderwärmung', 0.5358410477638245),\n",
       " ('erdöl', 0.5054121017456055),\n",
       " ('weltfrieden', 0.5016738772392273),\n",
       " ('energiewende', 0.4960845708847046),\n",
       " ('weltklima', 0.4886070787906647),\n",
       " ('massentierhaltung', 0.48382022976875305),\n",
       " ('hunger', 0.47443896532058716)]"
      ]
     },
     "execution_count": 8,
     "metadata": {},
     "output_type": "execute_result"
    }
   ],
   "source": [
    "model.wv.most_similar('klimawandel')"
   ]
  },
  {
   "cell_type": "code",
   "execution_count": 9,
   "metadata": {},
   "outputs": [
    {
     "data": {
      "text/plain": [
       "[('steuerpolitik', 0.5160256028175354),\n",
       " ('sozialabgaben', 0.5093764662742615),\n",
       " ('abgaben', 0.5022505521774292),\n",
       " ('abgabenlast', 0.48640012741088867),\n",
       " ('steuerentlastung', 0.4663386642932892),\n",
       " ('steuerentlastungen', 0.46021461486816406),\n",
       " ('umverteilung', 0.45453017950057983),\n",
       " ('https://www..de/standpunkte/investitionen-steuern/', 0.44680550694465637),\n",
       " ('einkommen', 0.4455975890159607),\n",
       " ('steuerkonzept', 0.4391680955886841)]"
      ]
     },
     "execution_count": 9,
     "metadata": {},
     "output_type": "execute_result"
    }
   ],
   "source": [
    "model.wv.most_similar('steuern')"
   ]
  },
  {
   "cell_type": "code",
   "execution_count": 10,
   "metadata": {
    "scrolled": true
   },
   "outputs": [
    {
     "data": {
      "text/plain": [
       "[('legalisierung', 0.636554479598999),\n",
       " ('medizin', 0.4737928509712219),\n",
       " ('rezeptpflichtiger', 0.4731256365776062),\n",
       " ('herero', 0.47304031252861023),\n",
       " ('medikamente', 0.47299811244010925),\n",
       " ('operationen', 0.45909738540649414),\n",
       " ('strengere', 0.45692986249923706),\n",
       " ('kontrollierte', 0.45156535506248474),\n",
       " ('jugendschutz', 0.43440157175064087),\n",
       " ('dealern', 0.4315119683742523)]"
      ]
     },
     "execution_count": 10,
     "metadata": {},
     "output_type": "execute_result"
    }
   ],
   "source": [
    "model.wv.most_similar('cannabis')"
   ]
  },
  {
   "cell_type": "code",
   "execution_count": 11,
   "metadata": {},
   "outputs": [
    {
     "data": {
      "text/plain": [
       "[('hauptstadt', 0.9484652280807495),\n",
       " ('bundeshauptstadt', 0.5706392526626587),\n",
       " ('republik', 0.5143699049949646),\n",
       " ('berlin', 0.5023105144500732),\n",
       " ('reise', 0.4816671907901764),\n",
       " ('bundespresseamt', 0.4529900550842285),\n",
       " ('singapur', 0.4295526146888733),\n",
       " ('gruppe', 0.42479175329208374),\n",
       " ('dachterrasse', 0.4243021011352539),\n",
       " ('bildungsfahrt', 0.4151843190193176)]"
      ]
     },
     "execution_count": 11,
     "metadata": {},
     "output_type": "execute_result"
    }
   ],
   "source": [
    "model.wv.most_similar([model.wv.word_vec('hauptstadt') + model.wv.word_vec('deutschland')/2])"
   ]
  },
  {
   "cell_type": "markdown",
   "metadata": {
    "heading_collapsed": true
   },
   "source": [
    "## which word does not fit in?"
   ]
  },
  {
   "cell_type": "code",
   "execution_count": 12,
   "metadata": {
    "hidden": true
   },
   "outputs": [
    {
     "data": {
      "text/plain": [
       "'merkel'"
      ]
     },
     "execution_count": 12,
     "metadata": {},
     "output_type": "execute_result"
    }
   ],
   "source": [
    "model.wv.doesnt_match(\"bundeskanzler merkel regierung schulz\".split())"
   ]
  },
  {
   "cell_type": "code",
   "execution_count": 13,
   "metadata": {
    "hidden": true
   },
   "outputs": [
    {
     "data": {
      "text/plain": [
       "'weidel'"
      ]
     },
     "execution_count": 13,
     "metadata": {},
     "output_type": "execute_result"
    }
   ],
   "source": [
    "model.wv.doesnt_match(\"weidel gauland höcke irmer\".split())"
   ]
  },
  {
   "cell_type": "code",
   "execution_count": 14,
   "metadata": {
    "hidden": true
   },
   "outputs": [
    {
     "data": {
      "text/plain": [
       "'deutschland'"
      ]
     },
     "execution_count": 14,
     "metadata": {},
     "output_type": "execute_result"
    }
   ],
   "source": [
    "model.wv.doesnt_match(\"europa deutschland spanien frankreich\".split())"
   ]
  },
  {
   "cell_type": "markdown",
   "metadata": {},
   "source": [
    "## which candidate/party does not fit in?"
   ]
  },
  {
   "cell_type": "code",
   "execution_count": 15,
   "metadata": {},
   "outputs": [
    {
     "data": {
      "text/plain": [
       "'Alice Weidel'"
      ]
     },
     "execution_count": 15,
     "metadata": {},
     "output_type": "execute_result"
    }
   ],
   "source": [
    "model.docvecs.doesnt_match(['Angela Merkel', 'Martin Schulz', 'Christian Lindner', 'Dietmar Bartsch', 'Cem Özdemir', 'Alice Weidel', 'Joachim Herrmann'])"
   ]
  },
  {
   "cell_type": "code",
   "execution_count": 16,
   "metadata": {},
   "outputs": [
    {
     "data": {
      "text/plain": [
       "'CSU Party'"
      ]
     },
     "execution_count": 16,
     "metadata": {},
     "output_type": "execute_result"
    }
   ],
   "source": [
    "model.docvecs.doesnt_match(['SPD Party', 'CDU Party', 'FDP Party', 'DIE LINKE Party', 'CSU Party', 'GRÜNE Party', 'AfD Party'])"
   ]
  },
  {
   "cell_type": "markdown",
   "metadata": {
    "heading_collapsed": true
   },
   "source": [
    "## infer new data\n",
    "\n",
    "post from **Martin Schulz** after the election"
   ]
  },
  {
   "cell_type": "code",
   "execution_count": 240,
   "metadata": {
    "hidden": true
   },
   "outputs": [
    {
     "data": {
      "text/plain": [
       "[('146943', 0.8924677968025208),\n",
       " ('147', 0.8910102844238281),\n",
       " ('49850', 0.889638364315033),\n",
       " ('107631', 0.8883894085884094),\n",
       " ('9339', 0.8877042531967163),\n",
       " ('103717', 0.8872299790382385),\n",
       " ('101926', 0.8843702077865601),\n",
       " ('66186', 0.8834260702133179),\n",
       " ('169742', 0.8825559616088867),\n",
       " ('162227', 0.8819050192832947)]"
      ]
     },
     "execution_count": 240,
     "metadata": {},
     "output_type": "execute_result"
    }
   ],
   "source": [
    "model.docvecs.most_similar([model.infer_vector('Solidarität ist für mich kein abstrakter Begriff. Solidarität ist für mich Alltag. Sie steht nicht nur seit vielen Jahrzehnten im Zentrum meines ganzen politischen Denkens und Handelns. Sondern ich erlebe sie jeden Tag, ganz persönlich. Ich habe sie im Wahlkampf erlebt. Und ich erfahre sie in der aktuellen, schwierigen politischen Lage. Von Freunden und Angehörigen, von Genossinnen und Genossen. Und ich hatte das große Glück, als ich in meiner Jugend strauchelte, von anderen aufgefangen zu werden. Damals waren dies die Jusos in meiner Heimatstadt Würselen. So kam ich zur SPD. Denn hier merkte ich: Das war nicht nur ein Wort. In der Sozialdemokratie wird Solidarität gelebt. Ohne ist die SPD für mich gar nicht denkbar.')])"
   ]
  }
 ],
 "metadata": {
  "kernelspec": {
   "display_name": "Python 3",
   "language": "python",
   "name": "python3"
  },
  "language_info": {
   "codemirror_mode": {
    "name": "ipython",
    "version": 3
   },
   "file_extension": ".py",
   "mimetype": "text/x-python",
   "name": "python",
   "nbconvert_exporter": "python",
   "pygments_lexer": "ipython3",
   "version": "3.6.3"
  }
 },
 "nbformat": 4,
 "nbformat_minor": 2
}
