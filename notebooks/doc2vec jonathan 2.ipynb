{
 "cells": [
  {
   "cell_type": "code",
   "execution_count": 49,
   "metadata": {
    "ExecuteTime": {
     "end_time": "2018-01-07T22:31:43.335811Z",
     "start_time": "2018-01-07T22:31:43.212916Z"
    },
    "collapsed": true
   },
   "outputs": [],
   "source": [
    "import pandas as pd\n",
    "import numpy as np\n",
    "import gensim\n",
    "from nltk import RegexpTokenizer\n",
    "from nltk.corpus import stopwords\n",
    "import logging\n",
    "import multiprocessing\n",
    "import os\n",
    "from collections import namedtuple\n",
    "\n",
    "FORMAT = '%(asctime)s %(levelname)s %(message)s'\n",
    "DATEFORMAT = '%Y-%m-%d %H:%M:%S'\n",
    "logging.basicConfig(level=logging.WARNING,\n",
    "                    format=FORMAT,\n",
    "                    datefmt=DATEFORMAT)\n",
    "logger = logging.getLogger(__name__)"
   ]
  },
  {
   "cell_type": "code",
   "execution_count": 50,
   "metadata": {
    "ExecuteTime": {
     "end_time": "2018-01-07T22:31:58.046001Z",
     "start_time": "2018-01-07T22:31:57.995464Z"
    }
   },
   "outputs": [
    {
     "name": "stdout",
     "output_type": "stream",
     "text": [
      "working directory:  /Volumes/Datahouse/Users/Stipe/Documents/Studium/Master VWL/5 WS 2017/Seminar Information Systems/InformationSystemsWS1718/notebooks\n",
      "data directory:     /Volumes/Datahouse/Users/Stipe/Documents/Studium/Master VWL/5 WS 2017/Seminar Information Systems/InformationSystemsWS1718/data\n",
      "models directory:   /Volumes/Datahouse/Users/Stipe/Documents/Studium/Master VWL/5 WS 2017/Seminar Information Systems/InformationSystemsWS1718/models\n"
     ]
    }
   ],
   "source": [
    "parent_dir = os.path.abspath(os.path.join(os.getcwd(), os.pardir))\n",
    "data_dir = os.path.join(parent_dir, 'data')\n",
    "models_dir = os.path.join(parent_dir, 'models')\n",
    "print('working directory: ', os.getcwd())\n",
    "print('data directory:    ', data_dir, )\n",
    "print('models directory:  ', models_dir)"
   ]
  },
  {
   "cell_type": "code",
   "execution_count": 51,
   "metadata": {
    "ExecuteTime": {
     "end_time": "2018-01-08T00:09:42.224209Z",
     "start_time": "2018-01-08T00:09:42.161622Z"
    }
   },
   "outputs": [
    {
     "data": {
      "text/html": [
       "<div>\n",
       "<style>\n",
       "    .dataframe thead tr:only-child th {\n",
       "        text-align: right;\n",
       "    }\n",
       "\n",
       "    .dataframe thead th {\n",
       "        text-align: left;\n",
       "    }\n",
       "\n",
       "    .dataframe tbody tr th {\n",
       "        vertical-align: top;\n",
       "    }\n",
       "</style>\n",
       "<table border=\"1\" class=\"dataframe\">\n",
       "  <thead>\n",
       "    <tr style=\"text-align: right;\">\n",
       "      <th></th>\n",
       "      <th>id</th>\n",
       "      <th>from_name</th>\n",
       "      <th>message</th>\n",
       "      <th>Partei_ABK</th>\n",
       "    </tr>\n",
       "  </thead>\n",
       "  <tbody>\n",
       "    <tr>\n",
       "      <th>0</th>\n",
       "      <td>1586699104972808_1625886087720776</td>\n",
       "      <td>Valentin Abel</td>\n",
       "      <td>Gerade einmal 9.000 Anträge auf die Kaufprämie...</td>\n",
       "      <td>FDP</td>\n",
       "    </tr>\n",
       "    <tr>\n",
       "      <th>1</th>\n",
       "      <td>1586699104972808_1626084567700928</td>\n",
       "      <td>Valentin Abel</td>\n",
       "      <td>\"Die Liberalen stehen für einen individualisti...</td>\n",
       "      <td>FDP</td>\n",
       "    </tr>\n",
       "    <tr>\n",
       "      <th>2</th>\n",
       "      <td>1586699104972808_1627233684252683</td>\n",
       "      <td>Valentin Abel</td>\n",
       "      <td>Wir sind bereit für 2017 - machen wir Deutschl...</td>\n",
       "      <td>FDP</td>\n",
       "    </tr>\n",
       "    <tr>\n",
       "      <th>3</th>\n",
       "      <td>1586699104972808_1627428260899892</td>\n",
       "      <td>Valentin Abel</td>\n",
       "      <td>Kann ein Jahr besser beginnen als mit einem gu...</td>\n",
       "      <td>FDP</td>\n",
       "    </tr>\n",
       "    <tr>\n",
       "      <th>4</th>\n",
       "      <td>1586699104972808_1628833480759370</td>\n",
       "      <td>Valentin Abel</td>\n",
       "      <td>Platz 12 im diesjährigen #Landkreis-Ranking vo...</td>\n",
       "      <td>FDP</td>\n",
       "    </tr>\n",
       "    <tr>\n",
       "      <th>5</th>\n",
       "      <td>1586699104972808_1629446607364724</td>\n",
       "      <td>Valentin Abel</td>\n",
       "      <td>In Zeiten, in denen die Welt aus den Fugen zu ...</td>\n",
       "      <td>FDP</td>\n",
       "    </tr>\n",
       "    <tr>\n",
       "      <th>6</th>\n",
       "      <td>1586699104972808_1629559267353458</td>\n",
       "      <td>Valentin Abel</td>\n",
       "      <td>Fällt euch spontan etwas ein, auf das sich 83%...</td>\n",
       "      <td>FDP</td>\n",
       "    </tr>\n",
       "    <tr>\n",
       "      <th>7</th>\n",
       "      <td>1586699104972808_1630578820584836</td>\n",
       "      <td>Valentin Abel</td>\n",
       "      <td>Die #AfD missbraucht Sophie #Scholl, Widerstan...</td>\n",
       "      <td>FDP</td>\n",
       "    </tr>\n",
       "    <tr>\n",
       "      <th>8</th>\n",
       "      <td>1586699104972808_1632129530429765</td>\n",
       "      <td>Valentin Abel</td>\n",
       "      <td>Die #Legalisierung von #Cannabis kann nur ein ...</td>\n",
       "      <td>FDP</td>\n",
       "    </tr>\n",
       "    <tr>\n",
       "      <th>9</th>\n",
       "      <td>1586699104972808_1636145450028173</td>\n",
       "      <td>Valentin Abel</td>\n",
       "      <td>Bereit für 2017 – anders lässt sich die Stimmu...</td>\n",
       "      <td>FDP</td>\n",
       "    </tr>\n",
       "    <tr>\n",
       "      <th>10</th>\n",
       "      <td>1586699104972808_1636463479996370</td>\n",
       "      <td>Valentin Abel</td>\n",
       "      <td>Es ist Sonntagmittag. Du kannst zuhause beim B...</td>\n",
       "      <td>FDP</td>\n",
       "    </tr>\n",
       "    <tr>\n",
       "      <th>11</th>\n",
       "      <td>1586699104972808_1636966946612690</td>\n",
       "      <td>Valentin Abel</td>\n",
       "      <td>Extrablatt, Extrablatt! \\n\\nDie #HohenloherZei...</td>\n",
       "      <td>FDP</td>\n",
       "    </tr>\n",
       "    <tr>\n",
       "      <th>12</th>\n",
       "      <td>1586699104972808_1638298433146208</td>\n",
       "      <td>Valentin Abel</td>\n",
       "      <td>Warum #FreieDemokraten mehr als andere an die ...</td>\n",
       "      <td>FDP</td>\n",
       "    </tr>\n",
       "    <tr>\n",
       "      <th>13</th>\n",
       "      <td>1586699104972808_1641324159510302</td>\n",
       "      <td>Valentin Abel</td>\n",
       "      <td>Viele Grüße heute von #Pferdemarkt in #Dörzbac...</td>\n",
       "      <td>FDP</td>\n",
       "    </tr>\n",
       "    <tr>\n",
       "      <th>14</th>\n",
       "      <td>1586699104972808_1642901069352611</td>\n",
       "      <td>Valentin Abel</td>\n",
       "      <td>Wäre nicht so verdammt viel Wahres dran – man ...</td>\n",
       "      <td>FDP</td>\n",
       "    </tr>\n",
       "    <tr>\n",
       "      <th>15</th>\n",
       "      <td>1586699104972808_1642923026017082</td>\n",
       "      <td>Valentin Abel</td>\n",
       "      <td>Die Welt geht den Bach runter? #Kapitalismus u...</td>\n",
       "      <td>FDP</td>\n",
       "    </tr>\n",
       "    <tr>\n",
       "      <th>16</th>\n",
       "      <td>1586699104972808_1645091999133518</td>\n",
       "      <td>Valentin Abel</td>\n",
       "      <td>Am Sonntag werde ich beim Politischen Frühscho...</td>\n",
       "      <td>FDP</td>\n",
       "    </tr>\n",
       "    <tr>\n",
       "      <th>17</th>\n",
       "      <td>1586699104972808_1645742675735117</td>\n",
       "      <td>Valentin Abel</td>\n",
       "      <td>Nicht einmal 10%  #Feinstaub in #Stuttgart kom...</td>\n",
       "      <td>FDP</td>\n",
       "    </tr>\n",
       "    <tr>\n",
       "      <th>18</th>\n",
       "      <td>1586699104972808_1646428315666553</td>\n",
       "      <td>Valentin Abel</td>\n",
       "      <td>Der Kampf gegen den Drachen namens Staatsbürok...</td>\n",
       "      <td>FDP</td>\n",
       "    </tr>\n",
       "    <tr>\n",
       "      <th>19</th>\n",
       "      <td>1586699104972808_1646692852306766</td>\n",
       "      <td>Valentin Abel</td>\n",
       "      <td>Am nächsten Samstag bewerbe ich mich in Friedr...</td>\n",
       "      <td>FDP</td>\n",
       "    </tr>\n",
       "    <tr>\n",
       "      <th>20</th>\n",
       "      <td>1586699104972808_1648073508835367</td>\n",
       "      <td>Valentin Abel</td>\n",
       "      <td>Wow! Über 100 Gäste durfte ich heute zusammen ...</td>\n",
       "      <td>FDP</td>\n",
       "    </tr>\n",
       "    <tr>\n",
       "      <th>21</th>\n",
       "      <td>1586699104972808_1649402448702473</td>\n",
       "      <td>Valentin Abel</td>\n",
       "      <td>Vielen herzlichen Dank, liebe Junge Liberale B...</td>\n",
       "      <td>FDP</td>\n",
       "    </tr>\n",
       "    <tr>\n",
       "      <th>22</th>\n",
       "      <td>1586699104972808_1649538052022246</td>\n",
       "      <td>Valentin Abel</td>\n",
       "      <td>Ich freue mich ganz außerordentlich, gemeinsam...</td>\n",
       "      <td>FDP</td>\n",
       "    </tr>\n",
       "    <tr>\n",
       "      <th>23</th>\n",
       "      <td>1586699104972808_1652662728376445</td>\n",
       "      <td>Valentin Abel</td>\n",
       "      <td>Weil wir #Digitalisierung ernst nehmen, hören ...</td>\n",
       "      <td>FDP</td>\n",
       "    </tr>\n",
       "    <tr>\n",
       "      <th>24</th>\n",
       "      <td>1586699104972808_1653462738296444</td>\n",
       "      <td>Valentin Abel</td>\n",
       "      <td>Ein tolles Zeichen aus Den Haag! Liberale und ...</td>\n",
       "      <td>FDP</td>\n",
       "    </tr>\n",
       "    <tr>\n",
       "      <th>25</th>\n",
       "      <td>1586699104972808_1654565048186213</td>\n",
       "      <td>Valentin Abel</td>\n",
       "      <td>#Europa lebt! Wo unsere europäischen Grundwert...</td>\n",
       "      <td>FDP</td>\n",
       "    </tr>\n",
       "    <tr>\n",
       "      <th>26</th>\n",
       "      <td>1586699104972808_1656291048013613</td>\n",
       "      <td>Valentin Abel</td>\n",
       "      <td>Unsere Autobahnen entwickeln sich mitunter zu ...</td>\n",
       "      <td>FDP</td>\n",
       "    </tr>\n",
       "    <tr>\n",
       "      <th>27</th>\n",
       "      <td>1586699104972808_1657386947904023</td>\n",
       "      <td>Valentin Abel</td>\n",
       "      <td>Happy Birthday, #Europa! \\nDie Unterzeichnung ...</td>\n",
       "      <td>FDP</td>\n",
       "    </tr>\n",
       "    <tr>\n",
       "      <th>28</th>\n",
       "      <td>1586699104972808_1657447474564637</td>\n",
       "      <td>Valentin Abel</td>\n",
       "      <td>Unser Liberales Dutzend bekommt heute reichlic...</td>\n",
       "      <td>FDP</td>\n",
       "    </tr>\n",
       "    <tr>\n",
       "      <th>29</th>\n",
       "      <td>1586699104972808_1658594481116603</td>\n",
       "      <td>Valentin Abel</td>\n",
       "      <td>Die #Realschule ist integraler Teil eines viel...</td>\n",
       "      <td>FDP</td>\n",
       "    </tr>\n",
       "    <tr>\n",
       "      <th>...</th>\n",
       "      <td>...</td>\n",
       "      <td>...</td>\n",
       "      <td>...</td>\n",
       "      <td>...</td>\n",
       "    </tr>\n",
       "    <tr>\n",
       "      <th>177277</th>\n",
       "      <td>47694585682_10154612455960683</td>\n",
       "      <td>DIE LINKE Party</td>\n",
       "      <td>Bahnt sich da was an zwischen Özdemirs Grünen ...</td>\n",
       "      <td>DIE LINKE</td>\n",
       "    </tr>\n",
       "    <tr>\n",
       "      <th>177278</th>\n",
       "      <td>47694585682_10154599345560683</td>\n",
       "      <td>DIE LINKE Party</td>\n",
       "      <td>\"Natürlich wollen wir eine Millionärsteuer. Ja...</td>\n",
       "      <td>DIE LINKE</td>\n",
       "    </tr>\n",
       "    <tr>\n",
       "      <th>177279</th>\n",
       "      <td>47694585682_10154614297495683</td>\n",
       "      <td>DIE LINKE Party</td>\n",
       "      <td>Millionen Menschen in Deutschland wünschen sic...</td>\n",
       "      <td>DIE LINKE</td>\n",
       "    </tr>\n",
       "    <tr>\n",
       "      <th>177280</th>\n",
       "      <td>47694585682_10154614755130683</td>\n",
       "      <td>DIE LINKE Party</td>\n",
       "      <td>Heute vor 150 Jahren erschien der erste Band d...</td>\n",
       "      <td>DIE LINKE</td>\n",
       "    </tr>\n",
       "    <tr>\n",
       "      <th>177281</th>\n",
       "      <td>47694585682_10154614353465683</td>\n",
       "      <td>DIE LINKE Party</td>\n",
       "      <td>Du brauchst noch eine Wahlempfehlung? Nimm die...</td>\n",
       "      <td>DIE LINKE</td>\n",
       "    </tr>\n",
       "    <tr>\n",
       "      <th>177282</th>\n",
       "      <td>47694585682_10154613209130683</td>\n",
       "      <td>DIE LINKE Party</td>\n",
       "      <td>Wird Deine Rente zum Leben reichen? Das kommt ...</td>\n",
       "      <td>DIE LINKE</td>\n",
       "    </tr>\n",
       "    <tr>\n",
       "      <th>177283</th>\n",
       "      <td>47694585682_10154616628490683</td>\n",
       "      <td>DIE LINKE Party</td>\n",
       "      <td>Der Wahlkampf-Truck der LINKEN macht heute Sta...</td>\n",
       "      <td>DIE LINKE</td>\n",
       "    </tr>\n",
       "    <tr>\n",
       "      <th>177284</th>\n",
       "      <td>47694585682_10154617398320683</td>\n",
       "      <td>DIE LINKE Party</td>\n",
       "      <td>Mit dem #Linketruck live aus Leipzig. Eröffnun...</td>\n",
       "      <td>DIE LINKE</td>\n",
       "    </tr>\n",
       "    <tr>\n",
       "      <th>177285</th>\n",
       "      <td>47694585682_10154617547905683</td>\n",
       "      <td>DIE LINKE Party</td>\n",
       "      <td>Live aus Leipzig unsere Parteivorsitzende Katj...</td>\n",
       "      <td>DIE LINKE</td>\n",
       "    </tr>\n",
       "    <tr>\n",
       "      <th>177286</th>\n",
       "      <td>47694585682_1552429374840392</td>\n",
       "      <td>DIE LINKE Party</td>\n",
       "      <td>Wir fordern eine große Steuerreform. Wer große...</td>\n",
       "      <td>DIE LINKE</td>\n",
       "    </tr>\n",
       "    <tr>\n",
       "      <th>177287</th>\n",
       "      <td>47694585682_10154614802555683</td>\n",
       "      <td>DIE LINKE Party</td>\n",
       "      <td>Investitionen in Bildung, Krankenhäuser und in...</td>\n",
       "      <td>DIE LINKE</td>\n",
       "    </tr>\n",
       "    <tr>\n",
       "      <th>177288</th>\n",
       "      <td>47694585682_10154620172385683</td>\n",
       "      <td>DIE LINKE Party</td>\n",
       "      <td>DIE LINKE lohnt sich. \\n\\nOkay, nicht für alle...</td>\n",
       "      <td>DIE LINKE</td>\n",
       "    </tr>\n",
       "    <tr>\n",
       "      <th>177289</th>\n",
       "      <td>47694585682_10154616631980683</td>\n",
       "      <td>DIE LINKE Party</td>\n",
       "      <td>Wer mehr Personal in der Pflege einstellen wil...</td>\n",
       "      <td>DIE LINKE</td>\n",
       "    </tr>\n",
       "    <tr>\n",
       "      <th>177290</th>\n",
       "      <td>47694585682_10154623511260683</td>\n",
       "      <td>DIE LINKE Party</td>\n",
       "      <td>\"Wer für einen Politikwechsel votieren will, k...</td>\n",
       "      <td>DIE LINKE</td>\n",
       "    </tr>\n",
       "    <tr>\n",
       "      <th>177291</th>\n",
       "      <td>47694585682_10154624470940683</td>\n",
       "      <td>DIE LINKE Party</td>\n",
       "      <td>Rente rauf und mindestens 1.050 Euro. So geht ...</td>\n",
       "      <td>DIE LINKE</td>\n",
       "    </tr>\n",
       "    <tr>\n",
       "      <th>177292</th>\n",
       "      <td>47694585682_10154625392385683</td>\n",
       "      <td>DIE LINKE Party</td>\n",
       "      <td>\"Schluss mit Leiharbeit, dieser modernen Form ...</td>\n",
       "      <td>DIE LINKE</td>\n",
       "    </tr>\n",
       "    <tr>\n",
       "      <th>177293</th>\n",
       "      <td>47694585682_10154625833575683</td>\n",
       "      <td>DIE LINKE Party</td>\n",
       "      <td>BÜNDNIS 90/DIE GRÜNEN lieben Angie. Aber liebt...</td>\n",
       "      <td>DIE LINKE</td>\n",
       "    </tr>\n",
       "    <tr>\n",
       "      <th>177294</th>\n",
       "      <td>47694585682_10154627673550683</td>\n",
       "      <td>DIE LINKE Party</td>\n",
       "      <td>Am Sonntag ist Bundestagswahl, es geht richtig...</td>\n",
       "      <td>DIE LINKE</td>\n",
       "    </tr>\n",
       "    <tr>\n",
       "      <th>177295</th>\n",
       "      <td>47694585682_10154628127900683</td>\n",
       "      <td>DIE LINKE Party</td>\n",
       "      <td>Sahra Wagenknecht live in Hannover!</td>\n",
       "      <td>DIE LINKE</td>\n",
       "    </tr>\n",
       "    <tr>\n",
       "      <th>177296</th>\n",
       "      <td>47694585682_10154627896570683</td>\n",
       "      <td>DIE LINKE Party</td>\n",
       "      <td>Wir wollen keine Zwei-Klassen-Medizin. Wir wol...</td>\n",
       "      <td>DIE LINKE</td>\n",
       "    </tr>\n",
       "    <tr>\n",
       "      <th>177297</th>\n",
       "      <td>47694585682_10154625723475683</td>\n",
       "      <td>DIE LINKE Party</td>\n",
       "      <td>Nina Hagen wählt DIE LINKE, denn wir sind für ...</td>\n",
       "      <td>DIE LINKE</td>\n",
       "    </tr>\n",
       "    <tr>\n",
       "      <th>177298</th>\n",
       "      <td>47694585682_10154630021350683</td>\n",
       "      <td>DIE LINKE Party</td>\n",
       "      <td>Warum braucht es eine starke LINKE im Bundesta...</td>\n",
       "      <td>DIE LINKE</td>\n",
       "    </tr>\n",
       "    <tr>\n",
       "      <th>177299</th>\n",
       "      <td>47694585682_10154630098930683</td>\n",
       "      <td>DIE LINKE Party</td>\n",
       "      <td>Besonders in den Großstädten explodieren die M...</td>\n",
       "      <td>DIE LINKE</td>\n",
       "    </tr>\n",
       "    <tr>\n",
       "      <th>177300</th>\n",
       "      <td>47694585682_10154632411160683</td>\n",
       "      <td>DIE LINKE Party</td>\n",
       "      <td>Es geht um Gerechtigkeit oder Rassismus. Lasst...</td>\n",
       "      <td>DIE LINKE</td>\n",
       "    </tr>\n",
       "    <tr>\n",
       "      <th>177301</th>\n",
       "      <td>47694585682_10154633704435683</td>\n",
       "      <td>DIE LINKE Party</td>\n",
       "      <td>Darum geht´s am Sonntag: Solidarität und Gerec...</td>\n",
       "      <td>DIE LINKE</td>\n",
       "    </tr>\n",
       "    <tr>\n",
       "      <th>177302</th>\n",
       "      <td>47694585682_10154634091850683</td>\n",
       "      <td>DIE LINKE Party</td>\n",
       "      <td>Zwei Tage vor der Bundestagswahl sind wir im W...</td>\n",
       "      <td>DIE LINKE</td>\n",
       "    </tr>\n",
       "    <tr>\n",
       "      <th>177303</th>\n",
       "      <td>47694585682_10154636553235683</td>\n",
       "      <td>DIE LINKE Party</td>\n",
       "      <td>Pascal Meiser, unser Direktkandidat in Berlin ...</td>\n",
       "      <td>DIE LINKE</td>\n",
       "    </tr>\n",
       "    <tr>\n",
       "      <th>177304</th>\n",
       "      <td>47694585682_10154636607885683</td>\n",
       "      <td>DIE LINKE Party</td>\n",
       "      <td>Zu Gast im Wahlquartier-Talk war Stefan Liebic...</td>\n",
       "      <td>DIE LINKE</td>\n",
       "    </tr>\n",
       "    <tr>\n",
       "      <th>177305</th>\n",
       "      <td>47694585682_10154636952725683</td>\n",
       "      <td>DIE LINKE Party</td>\n",
       "      <td>Sahra Wagenknecht: Ihre Stimme am 24. Septembe...</td>\n",
       "      <td>DIE LINKE</td>\n",
       "    </tr>\n",
       "    <tr>\n",
       "      <th>177306</th>\n",
       "      <td>47694585682_10154636960630683</td>\n",
       "      <td>DIE LINKE Party</td>\n",
       "      <td>Dietmar Bartsch: »Am Sonntag haben wir die Cha...</td>\n",
       "      <td>DIE LINKE</td>\n",
       "    </tr>\n",
       "  </tbody>\n",
       "</table>\n",
       "<p>177307 rows × 4 columns</p>\n",
       "</div>"
      ],
      "text/plain": [
       "                                       id        from_name  \\\n",
       "0       1586699104972808_1625886087720776    Valentin Abel   \n",
       "1       1586699104972808_1626084567700928    Valentin Abel   \n",
       "2       1586699104972808_1627233684252683    Valentin Abel   \n",
       "3       1586699104972808_1627428260899892    Valentin Abel   \n",
       "4       1586699104972808_1628833480759370    Valentin Abel   \n",
       "5       1586699104972808_1629446607364724    Valentin Abel   \n",
       "6       1586699104972808_1629559267353458    Valentin Abel   \n",
       "7       1586699104972808_1630578820584836    Valentin Abel   \n",
       "8       1586699104972808_1632129530429765    Valentin Abel   \n",
       "9       1586699104972808_1636145450028173    Valentin Abel   \n",
       "10      1586699104972808_1636463479996370    Valentin Abel   \n",
       "11      1586699104972808_1636966946612690    Valentin Abel   \n",
       "12      1586699104972808_1638298433146208    Valentin Abel   \n",
       "13      1586699104972808_1641324159510302    Valentin Abel   \n",
       "14      1586699104972808_1642901069352611    Valentin Abel   \n",
       "15      1586699104972808_1642923026017082    Valentin Abel   \n",
       "16      1586699104972808_1645091999133518    Valentin Abel   \n",
       "17      1586699104972808_1645742675735117    Valentin Abel   \n",
       "18      1586699104972808_1646428315666553    Valentin Abel   \n",
       "19      1586699104972808_1646692852306766    Valentin Abel   \n",
       "20      1586699104972808_1648073508835367    Valentin Abel   \n",
       "21      1586699104972808_1649402448702473    Valentin Abel   \n",
       "22      1586699104972808_1649538052022246    Valentin Abel   \n",
       "23      1586699104972808_1652662728376445    Valentin Abel   \n",
       "24      1586699104972808_1653462738296444    Valentin Abel   \n",
       "25      1586699104972808_1654565048186213    Valentin Abel   \n",
       "26      1586699104972808_1656291048013613    Valentin Abel   \n",
       "27      1586699104972808_1657386947904023    Valentin Abel   \n",
       "28      1586699104972808_1657447474564637    Valentin Abel   \n",
       "29      1586699104972808_1658594481116603    Valentin Abel   \n",
       "...                                   ...              ...   \n",
       "177277      47694585682_10154612455960683  DIE LINKE Party   \n",
       "177278      47694585682_10154599345560683  DIE LINKE Party   \n",
       "177279      47694585682_10154614297495683  DIE LINKE Party   \n",
       "177280      47694585682_10154614755130683  DIE LINKE Party   \n",
       "177281      47694585682_10154614353465683  DIE LINKE Party   \n",
       "177282      47694585682_10154613209130683  DIE LINKE Party   \n",
       "177283      47694585682_10154616628490683  DIE LINKE Party   \n",
       "177284      47694585682_10154617398320683  DIE LINKE Party   \n",
       "177285      47694585682_10154617547905683  DIE LINKE Party   \n",
       "177286       47694585682_1552429374840392  DIE LINKE Party   \n",
       "177287      47694585682_10154614802555683  DIE LINKE Party   \n",
       "177288      47694585682_10154620172385683  DIE LINKE Party   \n",
       "177289      47694585682_10154616631980683  DIE LINKE Party   \n",
       "177290      47694585682_10154623511260683  DIE LINKE Party   \n",
       "177291      47694585682_10154624470940683  DIE LINKE Party   \n",
       "177292      47694585682_10154625392385683  DIE LINKE Party   \n",
       "177293      47694585682_10154625833575683  DIE LINKE Party   \n",
       "177294      47694585682_10154627673550683  DIE LINKE Party   \n",
       "177295      47694585682_10154628127900683  DIE LINKE Party   \n",
       "177296      47694585682_10154627896570683  DIE LINKE Party   \n",
       "177297      47694585682_10154625723475683  DIE LINKE Party   \n",
       "177298      47694585682_10154630021350683  DIE LINKE Party   \n",
       "177299      47694585682_10154630098930683  DIE LINKE Party   \n",
       "177300      47694585682_10154632411160683  DIE LINKE Party   \n",
       "177301      47694585682_10154633704435683  DIE LINKE Party   \n",
       "177302      47694585682_10154634091850683  DIE LINKE Party   \n",
       "177303      47694585682_10154636553235683  DIE LINKE Party   \n",
       "177304      47694585682_10154636607885683  DIE LINKE Party   \n",
       "177305      47694585682_10154636952725683  DIE LINKE Party   \n",
       "177306      47694585682_10154636960630683  DIE LINKE Party   \n",
       "\n",
       "                                                  message Partei_ABK  \n",
       "0       Gerade einmal 9.000 Anträge auf die Kaufprämie...        FDP  \n",
       "1       \"Die Liberalen stehen für einen individualisti...        FDP  \n",
       "2       Wir sind bereit für 2017 - machen wir Deutschl...        FDP  \n",
       "3       Kann ein Jahr besser beginnen als mit einem gu...        FDP  \n",
       "4       Platz 12 im diesjährigen #Landkreis-Ranking vo...        FDP  \n",
       "5       In Zeiten, in denen die Welt aus den Fugen zu ...        FDP  \n",
       "6       Fällt euch spontan etwas ein, auf das sich 83%...        FDP  \n",
       "7       Die #AfD missbraucht Sophie #Scholl, Widerstan...        FDP  \n",
       "8       Die #Legalisierung von #Cannabis kann nur ein ...        FDP  \n",
       "9       Bereit für 2017 – anders lässt sich die Stimmu...        FDP  \n",
       "10      Es ist Sonntagmittag. Du kannst zuhause beim B...        FDP  \n",
       "11      Extrablatt, Extrablatt! \\n\\nDie #HohenloherZei...        FDP  \n",
       "12      Warum #FreieDemokraten mehr als andere an die ...        FDP  \n",
       "13      Viele Grüße heute von #Pferdemarkt in #Dörzbac...        FDP  \n",
       "14      Wäre nicht so verdammt viel Wahres dran – man ...        FDP  \n",
       "15      Die Welt geht den Bach runter? #Kapitalismus u...        FDP  \n",
       "16      Am Sonntag werde ich beim Politischen Frühscho...        FDP  \n",
       "17      Nicht einmal 10%  #Feinstaub in #Stuttgart kom...        FDP  \n",
       "18      Der Kampf gegen den Drachen namens Staatsbürok...        FDP  \n",
       "19      Am nächsten Samstag bewerbe ich mich in Friedr...        FDP  \n",
       "20      Wow! Über 100 Gäste durfte ich heute zusammen ...        FDP  \n",
       "21      Vielen herzlichen Dank, liebe Junge Liberale B...        FDP  \n",
       "22      Ich freue mich ganz außerordentlich, gemeinsam...        FDP  \n",
       "23      Weil wir #Digitalisierung ernst nehmen, hören ...        FDP  \n",
       "24      Ein tolles Zeichen aus Den Haag! Liberale und ...        FDP  \n",
       "25      #Europa lebt! Wo unsere europäischen Grundwert...        FDP  \n",
       "26      Unsere Autobahnen entwickeln sich mitunter zu ...        FDP  \n",
       "27      Happy Birthday, #Europa! \\nDie Unterzeichnung ...        FDP  \n",
       "28      Unser Liberales Dutzend bekommt heute reichlic...        FDP  \n",
       "29      Die #Realschule ist integraler Teil eines viel...        FDP  \n",
       "...                                                   ...        ...  \n",
       "177277  Bahnt sich da was an zwischen Özdemirs Grünen ...  DIE LINKE  \n",
       "177278  \"Natürlich wollen wir eine Millionärsteuer. Ja...  DIE LINKE  \n",
       "177279  Millionen Menschen in Deutschland wünschen sic...  DIE LINKE  \n",
       "177280  Heute vor 150 Jahren erschien der erste Band d...  DIE LINKE  \n",
       "177281  Du brauchst noch eine Wahlempfehlung? Nimm die...  DIE LINKE  \n",
       "177282  Wird Deine Rente zum Leben reichen? Das kommt ...  DIE LINKE  \n",
       "177283  Der Wahlkampf-Truck der LINKEN macht heute Sta...  DIE LINKE  \n",
       "177284  Mit dem #Linketruck live aus Leipzig. Eröffnun...  DIE LINKE  \n",
       "177285  Live aus Leipzig unsere Parteivorsitzende Katj...  DIE LINKE  \n",
       "177286  Wir fordern eine große Steuerreform. Wer große...  DIE LINKE  \n",
       "177287  Investitionen in Bildung, Krankenhäuser und in...  DIE LINKE  \n",
       "177288  DIE LINKE lohnt sich. \\n\\nOkay, nicht für alle...  DIE LINKE  \n",
       "177289  Wer mehr Personal in der Pflege einstellen wil...  DIE LINKE  \n",
       "177290  \"Wer für einen Politikwechsel votieren will, k...  DIE LINKE  \n",
       "177291  Rente rauf und mindestens 1.050 Euro. So geht ...  DIE LINKE  \n",
       "177292  \"Schluss mit Leiharbeit, dieser modernen Form ...  DIE LINKE  \n",
       "177293  BÜNDNIS 90/DIE GRÜNEN lieben Angie. Aber liebt...  DIE LINKE  \n",
       "177294  Am Sonntag ist Bundestagswahl, es geht richtig...  DIE LINKE  \n",
       "177295                Sahra Wagenknecht live in Hannover!  DIE LINKE  \n",
       "177296  Wir wollen keine Zwei-Klassen-Medizin. Wir wol...  DIE LINKE  \n",
       "177297  Nina Hagen wählt DIE LINKE, denn wir sind für ...  DIE LINKE  \n",
       "177298  Warum braucht es eine starke LINKE im Bundesta...  DIE LINKE  \n",
       "177299  Besonders in den Großstädten explodieren die M...  DIE LINKE  \n",
       "177300  Es geht um Gerechtigkeit oder Rassismus. Lasst...  DIE LINKE  \n",
       "177301  Darum geht´s am Sonntag: Solidarität und Gerec...  DIE LINKE  \n",
       "177302  Zwei Tage vor der Bundestagswahl sind wir im W...  DIE LINKE  \n",
       "177303  Pascal Meiser, unser Direktkandidat in Berlin ...  DIE LINKE  \n",
       "177304  Zu Gast im Wahlquartier-Talk war Stefan Liebic...  DIE LINKE  \n",
       "177305  Sahra Wagenknecht: Ihre Stimme am 24. Septembe...  DIE LINKE  \n",
       "177306  Dietmar Bartsch: »Am Sonntag haben wir die Cha...  DIE LINKE  \n",
       "\n",
       "[177307 rows x 4 columns]"
      ]
     },
     "execution_count": 51,
     "metadata": {},
     "output_type": "execute_result"
    }
   ],
   "source": [
    "data = pd.read_pickle(os.path.join(data_dir, 'data_clean_4cols.pickle'))\n",
    "data"
   ]
  },
  {
   "cell_type": "code",
   "execution_count": 52,
   "metadata": {
    "ExecuteTime": {
     "end_time": "2018-01-07T22:36:06.049754Z",
     "start_time": "2018-01-07T22:36:05.934663Z"
    }
   },
   "outputs": [
    {
     "data": {
      "text/html": [
       "<div>\n",
       "<style>\n",
       "    .dataframe thead tr:only-child th {\n",
       "        text-align: right;\n",
       "    }\n",
       "\n",
       "    .dataframe thead th {\n",
       "        text-align: left;\n",
       "    }\n",
       "\n",
       "    .dataframe tbody tr th {\n",
       "        vertical-align: top;\n",
       "    }\n",
       "</style>\n",
       "<table border=\"1\" class=\"dataframe\">\n",
       "  <thead>\n",
       "    <tr style=\"text-align: right;\">\n",
       "      <th></th>\n",
       "      <th>from_name</th>\n",
       "      <th>Partei_ABK</th>\n",
       "    </tr>\n",
       "  </thead>\n",
       "  <tbody>\n",
       "    <tr>\n",
       "      <th>173042</th>\n",
       "      <td>Dr. Daniela De Ridder</td>\n",
       "      <td>SPD</td>\n",
       "    </tr>\n",
       "    <tr>\n",
       "      <th>173559</th>\n",
       "      <td>Björn Simon</td>\n",
       "      <td>CDU</td>\n",
       "    </tr>\n",
       "    <tr>\n",
       "      <th>173902</th>\n",
       "      <td>Waldemar Westermayer</td>\n",
       "      <td>CDU</td>\n",
       "    </tr>\n",
       "    <tr>\n",
       "      <th>173963</th>\n",
       "      <td>AfD Party</td>\n",
       "      <td>AfD</td>\n",
       "    </tr>\n",
       "    <tr>\n",
       "      <th>174481</th>\n",
       "      <td>CDU Party</td>\n",
       "      <td>CDU</td>\n",
       "    </tr>\n",
       "    <tr>\n",
       "      <th>174974</th>\n",
       "      <td>SPD Party</td>\n",
       "      <td>SPD</td>\n",
       "    </tr>\n",
       "    <tr>\n",
       "      <th>175488</th>\n",
       "      <td>CSU Party</td>\n",
       "      <td>CSU</td>\n",
       "    </tr>\n",
       "    <tr>\n",
       "      <th>176078</th>\n",
       "      <td>GRÜNE Party</td>\n",
       "      <td>GRÜNE</td>\n",
       "    </tr>\n",
       "    <tr>\n",
       "      <th>176425</th>\n",
       "      <td>FDP Party</td>\n",
       "      <td>FDP</td>\n",
       "    </tr>\n",
       "    <tr>\n",
       "      <th>176969</th>\n",
       "      <td>DIE LINKE Party</td>\n",
       "      <td>DIE LINKE</td>\n",
       "    </tr>\n",
       "  </tbody>\n",
       "</table>\n",
       "</div>"
      ],
      "text/plain": [
       "                    from_name Partei_ABK\n",
       "173042  Dr. Daniela De Ridder        SPD\n",
       "173559            Björn Simon        CDU\n",
       "173902   Waldemar Westermayer        CDU\n",
       "173963              AfD Party        AfD\n",
       "174481              CDU Party        CDU\n",
       "174974              SPD Party        SPD\n",
       "175488              CSU Party        CSU\n",
       "176078            GRÜNE Party      GRÜNE\n",
       "176425              FDP Party        FDP\n",
       "176969        DIE LINKE Party  DIE LINKE"
      ]
     },
     "execution_count": 52,
     "metadata": {},
     "output_type": "execute_result"
    }
   ],
   "source": [
    "candidate_data = (data.drop(['id', 'message'], axis=1)\n",
    "                      .drop_duplicates('from_name')\n",
    "#                      .set_index('from_name')\n",
    "                 )\n",
    "candidate_data.tail(10)"
   ]
  },
  {
   "cell_type": "code",
   "execution_count": 53,
   "metadata": {
    "ExecuteTime": {
     "end_time": "2018-01-07T22:37:32.260804Z",
     "start_time": "2018-01-07T22:36:51.539377Z"
    },
    "collapsed": true
   },
   "outputs": [],
   "source": [
    "tokenizer = RegexpTokenizer(r'\\w+')\n",
    "stopword_set = set(stopwords.words('german'))\n",
    "MessageDoc = namedtuple('MessageDoc', 'words tags split')\n",
    "alldocs = []  # Will hold all docs in original order\n",
    "for line_no, line in data.iterrows():\n",
    "    #import pdb; pdb.set_trace()\n",
    "    message = line.message.lower()\n",
    "    words = tokenizer.tokenize(message)\n",
    "    tags = [str(line_no), line['from_name'], line['Partei_ABK']] # line_no needs to be converted as string to be included in tags \n",
    "    split = ['train', 'test', 'extra', 'extra'][line_no//200000]  # 25k train, 25k test, 25k extra\n",
    "    alldocs.append(MessageDoc(words, tags, split))"
   ]
  },
  {
   "cell_type": "code",
   "execution_count": 54,
   "metadata": {
    "ExecuteTime": {
     "end_time": "2018-01-07T22:51:28.746063Z",
     "start_time": "2018-01-07T22:51:28.556327Z"
    }
   },
   "outputs": [
    {
     "data": {
      "text/plain": [
       "['177306', 'DIE LINKE Party', 'DIE LINKE']"
      ]
     },
     "execution_count": 54,
     "metadata": {},
     "output_type": "execute_result"
    }
   ],
   "source": [
    "tags"
   ]
  },
  {
   "cell_type": "code",
   "execution_count": 55,
   "metadata": {
    "ExecuteTime": {
     "end_time": "2018-01-07T22:51:49.261318Z",
     "start_time": "2018-01-07T22:51:49.241304Z"
    }
   },
   "outputs": [
    {
     "data": {
      "text/plain": [
       "177307"
      ]
     },
     "execution_count": 55,
     "metadata": {},
     "output_type": "execute_result"
    }
   ],
   "source": [
    "len(alldocs)"
   ]
  },
  {
   "cell_type": "code",
   "execution_count": 56,
   "metadata": {
    "ExecuteTime": {
     "end_time": "2018-01-07T22:52:32.777868Z",
     "start_time": "2018-01-07T22:52:32.754852Z"
    },
    "collapsed": true
   },
   "outputs": [],
   "source": [
    "cores = multiprocessing.cpu_count()\n",
    "assert gensim.models.doc2vec.FAST_VERSION > -1, \"This will be painfully slow otherwise\""
   ]
  },
  {
   "cell_type": "code",
   "execution_count": 57,
   "metadata": {
    "ExecuteTime": {
     "end_time": "2018-01-07T22:54:36.249197Z",
     "start_time": "2018-01-07T22:52:37.656738Z"
    },
    "scrolled": true
   },
   "outputs": [
    {
     "data": {
      "text/plain": [
       "14314053"
      ]
     },
     "execution_count": 57,
     "metadata": {},
     "output_type": "execute_result"
    }
   ],
   "source": [
    "model = gensim.models.Doc2Vec(dm=0, size=100, min_count=5)\n",
    "model.build_vocab(alldocs)\n",
    "model.train(alldocs, total_examples=model.corpus_count, epochs=2, start_alpha=0.025, end_alpha=0.001)"
   ]
  },
  {
   "cell_type": "code",
   "execution_count": 58,
   "metadata": {
    "ExecuteTime": {
     "end_time": "2018-01-07T21:02:29.174775Z",
     "start_time": "2018-01-07T21:02:29.168771Z"
    },
    "collapsed": true,
    "scrolled": true
   },
   "outputs": [],
   "source": [
    "# saving the model doesn't work. Why?\n",
    "#model.save(os.path.join(models_dir, 'doc2vec_c.model'))\n",
    "#logger.info('model saved')"
   ]
  },
  {
   "cell_type": "code",
   "execution_count": 59,
   "metadata": {
    "ExecuteTime": {
     "end_time": "2018-01-07T22:55:07.102421Z",
     "start_time": "2018-01-07T22:55:07.071392Z"
    },
    "collapsed": true
   },
   "outputs": [],
   "source": [
    "word_vecs = model.wv\n",
    "doc_vecs = model.docvecs"
   ]
  },
  {
   "cell_type": "code",
   "execution_count": 60,
   "metadata": {
    "ExecuteTime": {
     "end_time": "2018-01-07T22:55:12.212367Z",
     "start_time": "2018-01-07T22:55:12.178341Z"
    }
   },
   "outputs": [],
   "source": [
    "#doc_vecs.doctags['FDP']\n",
    "#word_vecs.vocab"
   ]
  },
  {
   "cell_type": "code",
   "execution_count": 61,
   "metadata": {},
   "outputs": [
    {
     "data": {
      "text/html": [
       "<div>\n",
       "<style>\n",
       "    .dataframe thead tr:only-child th {\n",
       "        text-align: right;\n",
       "    }\n",
       "\n",
       "    .dataframe thead th {\n",
       "        text-align: left;\n",
       "    }\n",
       "\n",
       "    .dataframe tbody tr th {\n",
       "        vertical-align: top;\n",
       "    }\n",
       "</style>\n",
       "<table border=\"1\" class=\"dataframe\">\n",
       "  <thead>\n",
       "    <tr style=\"text-align: right;\">\n",
       "      <th></th>\n",
       "      <th>from_name</th>\n",
       "      <th>Partei_ABK</th>\n",
       "    </tr>\n",
       "  </thead>\n",
       "  <tbody>\n",
       "    <tr>\n",
       "      <th>173042</th>\n",
       "      <td>Dr. Daniela De Ridder</td>\n",
       "      <td>SPD</td>\n",
       "    </tr>\n",
       "    <tr>\n",
       "      <th>173559</th>\n",
       "      <td>Björn Simon</td>\n",
       "      <td>CDU</td>\n",
       "    </tr>\n",
       "    <tr>\n",
       "      <th>173902</th>\n",
       "      <td>Waldemar Westermayer</td>\n",
       "      <td>CDU</td>\n",
       "    </tr>\n",
       "    <tr>\n",
       "      <th>173963</th>\n",
       "      <td>AfD Party</td>\n",
       "      <td>AfD</td>\n",
       "    </tr>\n",
       "    <tr>\n",
       "      <th>174481</th>\n",
       "      <td>CDU Party</td>\n",
       "      <td>CDU</td>\n",
       "    </tr>\n",
       "    <tr>\n",
       "      <th>174974</th>\n",
       "      <td>SPD Party</td>\n",
       "      <td>SPD</td>\n",
       "    </tr>\n",
       "    <tr>\n",
       "      <th>175488</th>\n",
       "      <td>CSU Party</td>\n",
       "      <td>CSU</td>\n",
       "    </tr>\n",
       "    <tr>\n",
       "      <th>176078</th>\n",
       "      <td>GRÜNE Party</td>\n",
       "      <td>GRÜNE</td>\n",
       "    </tr>\n",
       "    <tr>\n",
       "      <th>176425</th>\n",
       "      <td>FDP Party</td>\n",
       "      <td>FDP</td>\n",
       "    </tr>\n",
       "    <tr>\n",
       "      <th>176969</th>\n",
       "      <td>DIE LINKE Party</td>\n",
       "      <td>DIE LINKE</td>\n",
       "    </tr>\n",
       "  </tbody>\n",
       "</table>\n",
       "</div>"
      ],
      "text/plain": [
       "                    from_name Partei_ABK\n",
       "173042  Dr. Daniela De Ridder        SPD\n",
       "173559            Björn Simon        CDU\n",
       "173902   Waldemar Westermayer        CDU\n",
       "173963              AfD Party        AfD\n",
       "174481              CDU Party        CDU\n",
       "174974              SPD Party        SPD\n",
       "175488              CSU Party        CSU\n",
       "176078            GRÜNE Party      GRÜNE\n",
       "176425              FDP Party        FDP\n",
       "176969        DIE LINKE Party  DIE LINKE"
      ]
     },
     "execution_count": 61,
     "metadata": {},
     "output_type": "execute_result"
    }
   ],
   "source": [
    "candidate_data.tail(10)"
   ]
  },
  {
   "cell_type": "code",
   "execution_count": 62,
   "metadata": {
    "ExecuteTime": {
     "end_time": "2018-01-07T22:55:24.579744Z",
     "start_time": "2018-01-07T22:55:22.416001Z"
    },
    "scrolled": true
   },
   "outputs": [
    {
     "data": {
      "text/html": [
       "<div>\n",
       "<style>\n",
       "    .dataframe thead tr:only-child th {\n",
       "        text-align: right;\n",
       "    }\n",
       "\n",
       "    .dataframe thead th {\n",
       "        text-align: left;\n",
       "    }\n",
       "\n",
       "    .dataframe tbody tr th {\n",
       "        vertical-align: top;\n",
       "    }\n",
       "</style>\n",
       "<table border=\"1\" class=\"dataframe\">\n",
       "  <thead>\n",
       "    <tr style=\"text-align: right;\">\n",
       "      <th></th>\n",
       "      <th>from_name</th>\n",
       "      <th>Partei_ABK</th>\n",
       "      <th>SPD Party</th>\n",
       "      <th>CDU Party</th>\n",
       "      <th>DIE LINKE Party</th>\n",
       "      <th>AfD Party</th>\n",
       "      <th>CSU Party</th>\n",
       "      <th>GRÜNE Party</th>\n",
       "      <th>FDP Party</th>\n",
       "      <th>most similar</th>\n",
       "    </tr>\n",
       "  </thead>\n",
       "  <tbody>\n",
       "    <tr>\n",
       "      <th>0</th>\n",
       "      <td>Valentin Abel</td>\n",
       "      <td>FDP</td>\n",
       "      <td>0.390267</td>\n",
       "      <td>0.365482</td>\n",
       "      <td>0.402482</td>\n",
       "      <td>0.189311</td>\n",
       "      <td>0.379702</td>\n",
       "      <td>0.473337</td>\n",
       "      <td>0.843782</td>\n",
       "      <td>FDP Party</td>\n",
       "    </tr>\n",
       "    <tr>\n",
       "      <th>93</th>\n",
       "      <td>Dr. Michael von Abercron</td>\n",
       "      <td>CDU</td>\n",
       "      <td>0.503062</td>\n",
       "      <td>0.761076</td>\n",
       "      <td>0.416128</td>\n",
       "      <td>0.214479</td>\n",
       "      <td>0.411250</td>\n",
       "      <td>0.434590</td>\n",
       "      <td>0.412957</td>\n",
       "      <td>CDU Party</td>\n",
       "    </tr>\n",
       "    <tr>\n",
       "      <th>168</th>\n",
       "      <td>Grigorios Aggelidis</td>\n",
       "      <td>FDP</td>\n",
       "      <td>0.408301</td>\n",
       "      <td>0.422290</td>\n",
       "      <td>0.399448</td>\n",
       "      <td>0.315808</td>\n",
       "      <td>0.313653</td>\n",
       "      <td>0.415592</td>\n",
       "      <td>0.574949</td>\n",
       "      <td>FDP Party</td>\n",
       "    </tr>\n",
       "    <tr>\n",
       "      <th>215</th>\n",
       "      <td>Diyar Agu</td>\n",
       "      <td>DIE LINKE</td>\n",
       "      <td>0.445441</td>\n",
       "      <td>0.433237</td>\n",
       "      <td>0.801158</td>\n",
       "      <td>0.236798</td>\n",
       "      <td>0.187087</td>\n",
       "      <td>0.376208</td>\n",
       "      <td>0.450313</td>\n",
       "      <td>DIE LINKE Party</td>\n",
       "    </tr>\n",
       "    <tr>\n",
       "      <th>269</th>\n",
       "      <td>Gökay Akbulut DIE LINKE</td>\n",
       "      <td>DIE LINKE</td>\n",
       "      <td>0.500914</td>\n",
       "      <td>0.431806</td>\n",
       "      <td>0.701426</td>\n",
       "      <td>0.273944</td>\n",
       "      <td>0.404207</td>\n",
       "      <td>0.586647</td>\n",
       "      <td>0.446364</td>\n",
       "      <td>DIE LINKE Party</td>\n",
       "    </tr>\n",
       "  </tbody>\n",
       "</table>\n",
       "</div>"
      ],
      "text/plain": [
       "                    from_name Partei_ABK  SPD Party  CDU Party  \\\n",
       "0               Valentin Abel        FDP   0.390267   0.365482   \n",
       "93   Dr. Michael von Abercron        CDU   0.503062   0.761076   \n",
       "168       Grigorios Aggelidis        FDP   0.408301   0.422290   \n",
       "215                 Diyar Agu  DIE LINKE   0.445441   0.433237   \n",
       "269   Gökay Akbulut DIE LINKE  DIE LINKE   0.500914   0.431806   \n",
       "\n",
       "     DIE LINKE Party  AfD Party  CSU Party  GRÜNE Party  FDP Party  \\\n",
       "0           0.402482   0.189311   0.379702     0.473337   0.843782   \n",
       "93          0.416128   0.214479   0.411250     0.434590   0.412957   \n",
       "168         0.399448   0.315808   0.313653     0.415592   0.574949   \n",
       "215         0.801158   0.236798   0.187087     0.376208   0.450313   \n",
       "269         0.701426   0.273944   0.404207     0.586647   0.446364   \n",
       "\n",
       "        most similar  \n",
       "0          FDP Party  \n",
       "93         CDU Party  \n",
       "168        FDP Party  \n",
       "215  DIE LINKE Party  \n",
       "269  DIE LINKE Party  "
      ]
     },
     "execution_count": 62,
     "metadata": {},
     "output_type": "execute_result"
    }
   ],
   "source": [
    "# calculate similarity for all candidates and parties\n",
    "for party in ['SPD Party', 'CDU Party', 'DIE LINKE Party', 'AfD Party', 'CSU Party', 'GRÜNE Party', 'FDP Party']:\n",
    "    candidate_data[party] = candidate_data['from_name'].map(lambda candidate: model.docvecs.similarity(candidate, party))\n",
    "    \n",
    "# make a new column holding which party is most similar\n",
    "candidate_data['most similar'] = candidate_data.loc[:,'SPD Party':].idxmax(axis=1)\n",
    "candidate_data.head()"
   ]
  },
  {
   "cell_type": "code",
   "execution_count": 63,
   "metadata": {
    "ExecuteTime": {
     "end_time": "2018-01-07T23:02:34.617803Z",
     "start_time": "2018-01-07T23:02:34.608798Z"
    }
   },
   "outputs": [
    {
     "data": {
      "text/plain": [
       "(1008, 10)"
      ]
     },
     "execution_count": 63,
     "metadata": {},
     "output_type": "execute_result"
    }
   ],
   "source": [
    "candidate_data.shape"
   ]
  },
  {
   "cell_type": "code",
   "execution_count": 64,
   "metadata": {
    "ExecuteTime": {
     "end_time": "2018-01-07T22:55:45.726961Z",
     "start_time": "2018-01-07T22:55:45.647398Z"
    },
    "collapsed": true
   },
   "outputs": [],
   "source": [
    "most_similar_candidates = pd.crosstab(candidate_data['Partei_ABK'], candidate_data['most similar'])"
   ]
  },
  {
   "cell_type": "code",
   "execution_count": 65,
   "metadata": {
    "ExecuteTime": {
     "end_time": "2018-01-07T22:55:50.973739Z",
     "start_time": "2018-01-07T22:55:50.926204Z"
    }
   },
   "outputs": [
    {
     "data": {
      "text/html": [
       "<div>\n",
       "<style>\n",
       "    .dataframe thead tr:only-child th {\n",
       "        text-align: right;\n",
       "    }\n",
       "\n",
       "    .dataframe thead th {\n",
       "        text-align: left;\n",
       "    }\n",
       "\n",
       "    .dataframe tbody tr th {\n",
       "        vertical-align: top;\n",
       "    }\n",
       "</style>\n",
       "<table border=\"1\" class=\"dataframe\">\n",
       "  <thead>\n",
       "    <tr style=\"text-align: right;\">\n",
       "      <th>most similar</th>\n",
       "      <th>AfD Party</th>\n",
       "      <th>CDU Party</th>\n",
       "      <th>CSU Party</th>\n",
       "      <th>DIE LINKE Party</th>\n",
       "      <th>FDP Party</th>\n",
       "      <th>GRÜNE Party</th>\n",
       "      <th>SPD Party</th>\n",
       "    </tr>\n",
       "    <tr>\n",
       "      <th>Partei_ABK</th>\n",
       "      <th></th>\n",
       "      <th></th>\n",
       "      <th></th>\n",
       "      <th></th>\n",
       "      <th></th>\n",
       "      <th></th>\n",
       "      <th></th>\n",
       "    </tr>\n",
       "  </thead>\n",
       "  <tbody>\n",
       "    <tr>\n",
       "      <th>AfD</th>\n",
       "      <td>120</td>\n",
       "      <td>0</td>\n",
       "      <td>2</td>\n",
       "      <td>1</td>\n",
       "      <td>0</td>\n",
       "      <td>1</td>\n",
       "      <td>0</td>\n",
       "    </tr>\n",
       "    <tr>\n",
       "      <th>CDU</th>\n",
       "      <td>3</td>\n",
       "      <td>179</td>\n",
       "      <td>6</td>\n",
       "      <td>3</td>\n",
       "      <td>3</td>\n",
       "      <td>6</td>\n",
       "      <td>9</td>\n",
       "    </tr>\n",
       "    <tr>\n",
       "      <th>CSU</th>\n",
       "      <td>0</td>\n",
       "      <td>0</td>\n",
       "      <td>46</td>\n",
       "      <td>0</td>\n",
       "      <td>0</td>\n",
       "      <td>0</td>\n",
       "      <td>0</td>\n",
       "    </tr>\n",
       "    <tr>\n",
       "      <th>DIE LINKE</th>\n",
       "      <td>2</td>\n",
       "      <td>0</td>\n",
       "      <td>0</td>\n",
       "      <td>109</td>\n",
       "      <td>0</td>\n",
       "      <td>0</td>\n",
       "      <td>0</td>\n",
       "    </tr>\n",
       "    <tr>\n",
       "      <th>FDP</th>\n",
       "      <td>0</td>\n",
       "      <td>0</td>\n",
       "      <td>0</td>\n",
       "      <td>3</td>\n",
       "      <td>168</td>\n",
       "      <td>0</td>\n",
       "      <td>2</td>\n",
       "    </tr>\n",
       "    <tr>\n",
       "      <th>GRÜNE</th>\n",
       "      <td>1</td>\n",
       "      <td>1</td>\n",
       "      <td>0</td>\n",
       "      <td>3</td>\n",
       "      <td>0</td>\n",
       "      <td>89</td>\n",
       "      <td>1</td>\n",
       "    </tr>\n",
       "    <tr>\n",
       "      <th>SPD</th>\n",
       "      <td>0</td>\n",
       "      <td>2</td>\n",
       "      <td>19</td>\n",
       "      <td>11</td>\n",
       "      <td>3</td>\n",
       "      <td>6</td>\n",
       "      <td>209</td>\n",
       "    </tr>\n",
       "  </tbody>\n",
       "</table>\n",
       "</div>"
      ],
      "text/plain": [
       "most similar  AfD Party  CDU Party  CSU Party  DIE LINKE Party  FDP Party  \\\n",
       "Partei_ABK                                                                  \n",
       "AfD                 120          0          2                1          0   \n",
       "CDU                   3        179          6                3          3   \n",
       "CSU                   0          0         46                0          0   \n",
       "DIE LINKE             2          0          0              109          0   \n",
       "FDP                   0          0          0                3        168   \n",
       "GRÜNE                 1          1          0                3          0   \n",
       "SPD                   0          2         19               11          3   \n",
       "\n",
       "most similar  GRÜNE Party  SPD Party  \n",
       "Partei_ABK                            \n",
       "AfD                     1          0  \n",
       "CDU                     6          9  \n",
       "CSU                     0          0  \n",
       "DIE LINKE               0          0  \n",
       "FDP                     0          2  \n",
       "GRÜNE                  89          1  \n",
       "SPD                     6        209  "
      ]
     },
     "execution_count": 65,
     "metadata": {},
     "output_type": "execute_result"
    }
   ],
   "source": [
    "most_similar_candidates"
   ]
  },
  {
   "cell_type": "code",
   "execution_count": null,
   "metadata": {
    "ExecuteTime": {
     "end_time": "2018-01-07T17:14:44.312556Z",
     "start_time": "2018-01-07T17:14:44.298547Z"
    },
    "collapsed": true
   },
   "outputs": [],
   "source": [
    "#sums = pd.crosstab(candidate_data['Partei_ABK'], candidate_data['most similar'])"
   ]
  },
  {
   "cell_type": "code",
   "execution_count": 66,
   "metadata": {
    "ExecuteTime": {
     "end_time": "2018-01-07T23:36:35.485033Z",
     "start_time": "2018-01-07T23:36:35.414946Z"
    }
   },
   "outputs": [
    {
     "data": {
      "text/plain": [
       "178322"
      ]
     },
     "execution_count": 66,
     "metadata": {},
     "output_type": "execute_result"
    }
   ],
   "source": [
    "model.docvecs.count"
   ]
  },
  {
   "cell_type": "code",
   "execution_count": 67,
   "metadata": {
    "ExecuteTime": {
     "end_time": "2018-01-07T23:01:21.619657Z",
     "start_time": "2018-01-07T23:01:08.964512Z"
    },
    "collapsed": true
   },
   "outputs": [],
   "source": [
    "# filter out the candidate data\n",
    "mask = [tag in candidate_data['from_name'].values for tag in model.docvecs.offset2doctag]\n",
    "candidate_vecs = model.docvecs.doctag_syn0[mask]"
   ]
  },
  {
   "cell_type": "code",
   "execution_count": 68,
   "metadata": {
    "ExecuteTime": {
     "end_time": "2018-01-07T23:01:35.796590Z",
     "start_time": "2018-01-07T23:01:35.777571Z"
    }
   },
   "outputs": [
    {
     "data": {
      "text/plain": [
       "1008"
      ]
     },
     "execution_count": 68,
     "metadata": {},
     "output_type": "execute_result"
    }
   ],
   "source": [
    "len(candidate_vecs)"
   ]
  },
  {
   "cell_type": "code",
   "execution_count": 69,
   "metadata": {
    "ExecuteTime": {
     "end_time": "2018-01-07T23:03:06.768166Z",
     "start_time": "2018-01-07T23:03:05.673953Z"
    },
    "collapsed": true
   },
   "outputs": [],
   "source": [
    "from sklearn.manifold import TSNE\n",
    "import matplotlib.pyplot as plt\n",
    "\n",
    "X = candidate_vecs\n",
    "tsne = TSNE(n_components=2)\n",
    "X_tsne = tsne.fit_transform(X)"
   ]
  },
  {
   "cell_type": "markdown",
   "metadata": {},
   "source": [
    "[Colors in Matplotlib](https://matplotlib.org/api/colors_api.html)\n",
    "\n",
    "[Color names from xkcd](https://xkcd.com/color/rgb/)"
   ]
  },
  {
   "cell_type": "code",
   "execution_count": 106,
   "metadata": {
    "ExecuteTime": {
     "end_time": "2018-01-07T23:44:45.167602Z",
     "start_time": "2018-01-07T23:44:45.154592Z"
    }
   },
   "outputs": [],
   "source": [
    "party_colors = {'AfD': 'rgb(0, 0, 51)',\n",
    "                'DIE LINKE': 'rgb(204, 0, 102)',\n",
    "                'GRÜNE': 'rgb(0, 153, 0)',\n",
    "                'CSU': 'rgb(102, 178, 255)',\n",
    "                'CDU': 'rgb(0, 0, 0)',\n",
    "                'FDP': 'rgb(255, 255, 51)',\n",
    "                'SPD': 'rgb(255, 0, 0)'}\n",
    "candidate_data['color'] = candidate_data['Partei_ABK'].map(party_colors)"
   ]
  },
  {
   "cell_type": "code",
   "execution_count": 71,
   "metadata": {
    "ExecuteTime": {
     "end_time": "2018-01-08T00:06:44.651536Z",
     "start_time": "2018-01-08T00:06:44.233594Z"
    }
   },
   "outputs": [
    {
     "data": {
      "image/png": "[encoded data removed]",
      "text/plain": [
       "<matplotlib.figure.Figure at 0x1a213b5cf8>"
      ]
     },
     "metadata": {},
     "output_type": "display_data"
    }
   ],
   "source": [
    "#plt.figure(num=None, figsize=(10, 8))  # set the figure size\n",
    "#plt.scatter(X_tsne[:, 0], X_tsne[:, 1], c=candidate_data['color'])\n",
    "#plt.show()"
   ]
  },
  {
   "cell_type": "code",
   "execution_count": 73,
   "metadata": {
    "collapsed": true
   },
   "outputs": [],
   "source": [
    "import plotly.plotly as py\n",
    "import plotly.graph_objs as go\n",
    "from plotly import tools"
   ]
  },
  {
   "cell_type": "code",
   "execution_count": 111,
   "metadata": {},
   "outputs": [],
   "source": [
    "trace = go.Scatter(x=X_tsne[:, 0], y=X_tsne[:, 1],\n",
    "                   mode='markers', \n",
    "                   marker=dict(color=candidate_data['color'], \n",
    "                               colorscale=cmap,\n",
    "                               showscale=False,\n",
    "                               line=dict(color='black', width=1)),\n",
    "                  text=candidate_data['from_name'])\n",
    "data.append(trace)\n",
    "titles.append(\"t-SNE (%.2g sec)\" % (t1 - t0))"
   ]
  },
  {
   "cell_type": "code",
   "execution_count": 112,
   "metadata": {},
   "outputs": [],
   "source": [
    "layout=dict(margin=dict(l=10, r=10,\n",
    "                        t=30, b=10)\n",
    "           )\n",
    "\n",
    "fig = go.Figure(data=[trace], layout=layout)"
   ]
  },
  {
   "cell_type": "code",
   "execution_count": 113,
   "metadata": {},
   "outputs": [
    {
     "data": {
      "text/html": [
       "<iframe id=\"igraph\" scrolling=\"no\" style=\"border:none;\" seamless=\"seamless\" src=\"https://plot.ly/~Stipe/53.embed\" height=\"525px\" width=\"100%\"></iframe>"
      ],
      "text/plain": [
       "<plotly.tools.PlotlyDisplay object>"
      ]
     },
     "execution_count": 113,
     "metadata": {},
     "output_type": "execute_result"
    }
   ],
   "source": [
    "py.iplot(fig)"
   ]
  }
 ],
 "metadata": {
  "kernelspec": {
   "display_name": "Python 3",
   "language": "python",
   "name": "python3"
  },
  "language_info": {
   "codemirror_mode": {
    "name": "ipython",
    "version": 3
   },
   "file_extension": ".py",
   "mimetype": "text/x-python",
   "name": "python",
   "nbconvert_exporter": "python",
   "pygments_lexer": "ipython3",
   "version": "3.6.3"
  },
  "varInspector": {
   "cols": {
    "lenName": 16,
    "lenType": 16,
    "lenVar": 40
   },
   "kernels_config": {
    "python": {
     "delete_cmd_postfix": "",
     "delete_cmd_prefix": "del ",
     "library": "var_list.py",
     "varRefreshCmd": "print(var_dic_list())"
    },
    "r": {
     "delete_cmd_postfix": ") ",
     "delete_cmd_prefix": "rm(",
     "library": "var_list.r",
     "varRefreshCmd": "cat(var_dic_list()) "
    }
   },
   "types_to_exclude": [
    "module",
    "function",
    "builtin_function_or_method",
    "instance",
    "_Feature"
   ],
   "window_display": false
  }
 },
 "nbformat": 4,
 "nbformat_minor": 2
}
