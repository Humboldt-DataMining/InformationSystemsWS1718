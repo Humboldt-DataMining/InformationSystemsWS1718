{
 "cells": [
  {
   "cell_type": "code",
   "execution_count": 2,
   "metadata": {
    "ExecuteTime": {
     "end_time": "2018-01-06T02:01:45.153789Z",
     "start_time": "2018-01-06T02:01:28.894924Z"
    }
   },
   "outputs": [
    {
     "name": "stderr",
     "output_type": "stream",
     "text": [
      "C:\\Users\\Joni\\Anaconda3\\envs\\infosys\\lib\\site-packages\\gensim\\utils.py:860: UserWarning: detected Windows; aliasing chunkize to chunkize_serial\n",
      "  warnings.warn(\"detected Windows; aliasing chunkize to chunkize_serial\")\n"
     ]
    }
   ],
   "source": [
    "import pandas as pd\n",
    "import numpy as np\n",
    "import gensim\n",
    "from nltk import RegexpTokenizer\n",
    "from nltk.corpus import stopwords\n",
    "import logging\n",
    "import multiprocessing\n",
    "import os\n",
    "from collections import namedtuple\n",
    "\n",
    "FORMAT = '%(asctime)s %(levelname)s %(message)s'\n",
    "DATEFORMAT = '%Y-%m-%d %H:%M:%S'\n",
    "logging.basicConfig(level=logging.WARNING,\n",
    "                    format=FORMAT,\n",
    "                    datefmt=DATEFORMAT)\n",
    "logger = logging.getLogger(__name__)"
   ]
  },
  {
   "cell_type": "code",
   "execution_count": 3,
   "metadata": {
    "ExecuteTime": {
     "end_time": "2018-01-06T02:01:45.206834Z",
     "start_time": "2018-01-06T02:01:45.155793Z"
    }
   },
   "outputs": [
    {
     "name": "stdout",
     "output_type": "stream",
     "text": [
      "working directory:  C:\\Users\\Joni\\Dropbox (Privat)\\CODE\\InformationSystemsWS1718\\notebooks\n",
      "data directory:     C:\\Users\\Joni\\Dropbox (Privat)\\CODE\\InformationSystemsWS1718\\data\n",
      "models directory:   C:\\Users\\Joni\\Dropbox (Privat)\\CODE\\InformationSystemsWS1718\\models\n"
     ]
    }
   ],
   "source": [
    "parent_dir = os.path.abspath(os.path.join(os.getcwd(), os.pardir))\n",
    "data_dir = os.path.join(parent_dir, 'data')\n",
    "models_dir = os.path.join(parent_dir, 'models')\n",
    "print('working directory: ', os.getcwd())\n",
    "print('data directory:    ', data_dir, )\n",
    "print('models directory:  ', models_dir)"
   ]
  },
  {
   "cell_type": "code",
   "execution_count": 4,
   "metadata": {
    "ExecuteTime": {
     "end_time": "2018-01-06T02:01:45.767349Z",
     "start_time": "2018-01-06T02:01:45.212338Z"
    }
   },
   "outputs": [
    {
     "data": {
      "text/html": [
       "<div>\n",
       "<style scoped>\n",
       "    .dataframe tbody tr th:only-of-type {\n",
       "        vertical-align: middle;\n",
       "    }\n",
       "\n",
       "    .dataframe tbody tr th {\n",
       "        vertical-align: top;\n",
       "    }\n",
       "\n",
       "    .dataframe thead th {\n",
       "        text-align: right;\n",
       "    }\n",
       "</style>\n",
       "<table border=\"1\" class=\"dataframe\">\n",
       "  <thead>\n",
       "    <tr style=\"text-align: right;\">\n",
       "      <th></th>\n",
       "      <th>id</th>\n",
       "      <th>from_name</th>\n",
       "      <th>message</th>\n",
       "      <th>Partei_ABK</th>\n",
       "    </tr>\n",
       "  </thead>\n",
       "  <tbody>\n",
       "    <tr>\n",
       "      <th>1</th>\n",
       "      <td>1586699104972808_1625886087720776</td>\n",
       "      <td>Valentin Abel</td>\n",
       "      <td>Gerade einmal 9.000 Anträge auf die Kaufprämie...</td>\n",
       "      <td>FDP</td>\n",
       "    </tr>\n",
       "    <tr>\n",
       "      <th>2</th>\n",
       "      <td>1586699104972808_1626084567700928</td>\n",
       "      <td>Valentin Abel</td>\n",
       "      <td>\"Die Liberalen stehen für einen individualisti...</td>\n",
       "      <td>FDP</td>\n",
       "    </tr>\n",
       "    <tr>\n",
       "      <th>3</th>\n",
       "      <td>1586699104972808_1627233684252683</td>\n",
       "      <td>Valentin Abel</td>\n",
       "      <td>Wir sind bereit für 2017 - machen wir Deutschl...</td>\n",
       "      <td>FDP</td>\n",
       "    </tr>\n",
       "    <tr>\n",
       "      <th>4</th>\n",
       "      <td>1586699104972808_1627428260899892</td>\n",
       "      <td>Valentin Abel</td>\n",
       "      <td>Kann ein Jahr besser beginnen als mit einem gu...</td>\n",
       "      <td>FDP</td>\n",
       "    </tr>\n",
       "    <tr>\n",
       "      <th>5</th>\n",
       "      <td>1586699104972808_1628833480759370</td>\n",
       "      <td>Valentin Abel</td>\n",
       "      <td>Platz 12 im diesjährigen #Landkreis-Ranking vo...</td>\n",
       "      <td>FDP</td>\n",
       "    </tr>\n",
       "  </tbody>\n",
       "</table>\n",
       "</div>"
      ],
      "text/plain": [
       "                                  id      from_name  \\\n",
       "1  1586699104972808_1625886087720776  Valentin Abel   \n",
       "2  1586699104972808_1626084567700928  Valentin Abel   \n",
       "3  1586699104972808_1627233684252683  Valentin Abel   \n",
       "4  1586699104972808_1627428260899892  Valentin Abel   \n",
       "5  1586699104972808_1628833480759370  Valentin Abel   \n",
       "\n",
       "                                             message Partei_ABK  \n",
       "1  Gerade einmal 9.000 Anträge auf die Kaufprämie...        FDP  \n",
       "2  \"Die Liberalen stehen für einen individualisti...        FDP  \n",
       "3  Wir sind bereit für 2017 - machen wir Deutschl...        FDP  \n",
       "4  Kann ein Jahr besser beginnen als mit einem gu...        FDP  \n",
       "5  Platz 12 im diesjährigen #Landkreis-Ranking vo...        FDP  "
      ]
     },
     "execution_count": 4,
     "metadata": {},
     "output_type": "execute_result"
    }
   ],
   "source": [
    "data = pd.read_pickle(os.path.join(data_dir, 'data_clean_4cols.pickle'))\n",
    "data.head()"
   ]
  },
  {
   "cell_type": "code",
   "execution_count": 6,
   "metadata": {
    "ExecuteTime": {
     "end_time": "2018-01-06T02:01:45.849435Z",
     "start_time": "2018-01-06T02:01:45.795369Z"
    }
   },
   "outputs": [
    {
     "data": {
      "text/html": [
       "<div>\n",
       "<style scoped>\n",
       "    .dataframe tbody tr th:only-of-type {\n",
       "        vertical-align: middle;\n",
       "    }\n",
       "\n",
       "    .dataframe tbody tr th {\n",
       "        vertical-align: top;\n",
       "    }\n",
       "\n",
       "    .dataframe thead th {\n",
       "        text-align: right;\n",
       "    }\n",
       "</style>\n",
       "<table border=\"1\" class=\"dataframe\">\n",
       "  <thead>\n",
       "    <tr style=\"text-align: right;\">\n",
       "      <th></th>\n",
       "      <th>Partei_ABK</th>\n",
       "    </tr>\n",
       "    <tr>\n",
       "      <th>from_name</th>\n",
       "      <th></th>\n",
       "    </tr>\n",
       "  </thead>\n",
       "  <tbody>\n",
       "    <tr>\n",
       "      <th>Valentin Abel</th>\n",
       "      <td>FDP</td>\n",
       "    </tr>\n",
       "    <tr>\n",
       "      <th>Dr. Michael von Abercron</th>\n",
       "      <td>CDU</td>\n",
       "    </tr>\n",
       "    <tr>\n",
       "      <th>Grigorios Aggelidis</th>\n",
       "      <td>FDP</td>\n",
       "    </tr>\n",
       "    <tr>\n",
       "      <th>Diyar Agu</th>\n",
       "      <td>DIE LINKE</td>\n",
       "    </tr>\n",
       "    <tr>\n",
       "      <th>Gökay Akbulut DIE LINKE</th>\n",
       "      <td>DIE LINKE</td>\n",
       "    </tr>\n",
       "  </tbody>\n",
       "</table>\n",
       "</div>"
      ],
      "text/plain": [
       "                         Partei_ABK\n",
       "from_name                          \n",
       "Valentin Abel                   FDP\n",
       "Dr. Michael von Abercron        CDU\n",
       "Grigorios Aggelidis             FDP\n",
       "Diyar Agu                 DIE LINKE\n",
       "Gökay Akbulut DIE LINKE   DIE LINKE"
      ]
     },
     "execution_count": 6,
     "metadata": {},
     "output_type": "execute_result"
    }
   ],
   "source": [
    "candidate_data = (data.drop(['id', 'message'], axis=1)\n",
    "                      .drop_duplicates('from_name')\n",
    "                      .set_index('from_name'))\n",
    "candidate_data.head()"
   ]
  },
  {
   "cell_type": "code",
   "execution_count": 7,
   "metadata": {
    "ExecuteTime": {
     "end_time": "2018-01-06T02:01:45.862424Z",
     "start_time": "2018-01-06T02:01:45.852418Z"
    }
   },
   "outputs": [],
   "source": [
    "sample = data#.sample(n=10000)"
   ]
  },
  {
   "cell_type": "code",
   "execution_count": 8,
   "metadata": {
    "ExecuteTime": {
     "end_time": "2018-01-06T02:02:21.459781Z",
     "start_time": "2018-01-06T02:01:45.872442Z"
    }
   },
   "outputs": [],
   "source": [
    "tokenizer = RegexpTokenizer(r'\\w+')\n",
    "stopword_set = set(stopwords.words('german'))\n",
    "MessageDoc = namedtuple('MessageDoc', 'words tags split')\n",
    "alldocs = []  # Will hold all docs in original order\n",
    "for line_no, line in sample.iterrows():\n",
    "    #import pdb; pdb.set_trace()\n",
    "    message = line.message.lower()\n",
    "    words = tokenizer.tokenize(message)\n",
    "    tags = [line_no, line.from_name, line.Partei_ABK] # 'tags = [tokens[0]]' would also work at extra memory cost\n",
    "    split = ['train', 'test', 'extra', 'extra'][line_no//200000]  # 25k train, 25k test, 25k extra\n",
    "    alldocs.append(MessageDoc(words, tags, split))"
   ]
  },
  {
   "cell_type": "code",
   "execution_count": 9,
   "metadata": {
    "ExecuteTime": {
     "end_time": "2018-01-06T02:02:21.493703Z",
     "start_time": "2018-01-06T02:02:21.465683Z"
    }
   },
   "outputs": [
    {
     "data": {
      "text/plain": [
       "177307"
      ]
     },
     "execution_count": 9,
     "metadata": {},
     "output_type": "execute_result"
    }
   ],
   "source": [
    "len(alldocs)"
   ]
  },
  {
   "cell_type": "code",
   "execution_count": 10,
   "metadata": {
    "ExecuteTime": {
     "end_time": "2018-01-06T02:02:21.532734Z",
     "start_time": "2018-01-06T02:02:21.502710Z"
    }
   },
   "outputs": [],
   "source": [
    "cores = multiprocessing.cpu_count()\n",
    "assert gensim.models.doc2vec.FAST_VERSION > -1, \"This will be painfully slow otherwise\""
   ]
  },
  {
   "cell_type": "code",
   "execution_count": 11,
   "metadata": {
    "ExecuteTime": {
     "end_time": "2018-01-06T02:03:36.532028Z",
     "start_time": "2018-01-06T02:02:21.545749Z"
    },
    "scrolled": true
   },
   "outputs": [
    {
     "data": {
      "text/plain": [
       "14314662"
      ]
     },
     "execution_count": 11,
     "metadata": {},
     "output_type": "execute_result"
    }
   ],
   "source": [
    "model = gensim.models.Doc2Vec(dm=0, size=100, min_count=5)\n",
    "model.build_vocab(alldocs)\n",
    "model.train(alldocs, total_examples=model.corpus_count, epochs=2, start_alpha=0.025, end_alpha=0.001)"
   ]
  },
  {
   "cell_type": "code",
   "execution_count": null,
   "metadata": {
    "ExecuteTime": {
     "end_time": "2018-01-06T02:03:37.627551Z",
     "start_time": "2018-01-06T02:03:36.546037Z"
    },
    "scrolled": true
   },
   "outputs": [],
   "source": [
    "model.save(os.path.join(models_dir, 'doc2vec_c.model'))\n",
    "logger.info('model saved')\n",
    "# why does this not work?"
   ]
  },
  {
   "cell_type": "code",
   "execution_count": 13,
   "metadata": {
    "ExecuteTime": {
     "end_time": "2018-01-06T02:03:48.840921Z",
     "start_time": "2018-01-06T02:03:48.834921Z"
    }
   },
   "outputs": [],
   "source": [
    "word_vecs = model.wv\n",
    "doc_vecs = model.docvecs"
   ]
  },
  {
   "cell_type": "code",
   "execution_count": 17,
   "metadata": {
    "ExecuteTime": {
     "end_time": "2018-01-06T02:04:29.016613Z",
     "start_time": "2018-01-06T02:04:28.827054Z"
    }
   },
   "outputs": [],
   "source": [
    "for party in ['SPD Party', 'CDU Party', 'DIE LINKE Party', 'AfD Party', 'CSU Party', 'GRÜNE Party', 'FDP Party']:\n",
    "    candidate_data[party] = candidate_data.index.map(lambda candidate: model.docvecs.similarity(candidate, party))\n",
    "    #sim = model.docvecs.similarity(candidate, party)"
   ]
  },
  {
   "cell_type": "code",
   "execution_count": 24,
   "metadata": {
    "ExecuteTime": {
     "end_time": "2018-01-06T02:10:00.065300Z",
     "start_time": "2018-01-06T02:10:00.029743Z"
    },
    "scrolled": true
   },
   "outputs": [
    {
     "data": {
      "text/html": [
       "<div>\n",
       "<style scoped>\n",
       "    .dataframe tbody tr th:only-of-type {\n",
       "        vertical-align: middle;\n",
       "    }\n",
       "\n",
       "    .dataframe tbody tr th {\n",
       "        vertical-align: top;\n",
       "    }\n",
       "\n",
       "    .dataframe thead th {\n",
       "        text-align: right;\n",
       "    }\n",
       "</style>\n",
       "<table border=\"1\" class=\"dataframe\">\n",
       "  <thead>\n",
       "    <tr style=\"text-align: right;\">\n",
       "      <th></th>\n",
       "      <th>Partei_ABK</th>\n",
       "      <th>SPD Party</th>\n",
       "      <th>CDU Party</th>\n",
       "      <th>DIE LINKE Party</th>\n",
       "      <th>AfD Party</th>\n",
       "      <th>CSU Party</th>\n",
       "      <th>GRÜNE Party</th>\n",
       "      <th>FDP Party</th>\n",
       "      <th>most similar</th>\n",
       "    </tr>\n",
       "    <tr>\n",
       "      <th>from_name</th>\n",
       "      <th></th>\n",
       "      <th></th>\n",
       "      <th></th>\n",
       "      <th></th>\n",
       "      <th></th>\n",
       "      <th></th>\n",
       "      <th></th>\n",
       "      <th></th>\n",
       "      <th></th>\n",
       "    </tr>\n",
       "  </thead>\n",
       "  <tbody>\n",
       "    <tr>\n",
       "      <th>Valentin Abel</th>\n",
       "      <td>FDP</td>\n",
       "      <td>0.374163</td>\n",
       "      <td>0.366248</td>\n",
       "      <td>0.377242</td>\n",
       "      <td>0.226058</td>\n",
       "      <td>0.384117</td>\n",
       "      <td>0.488097</td>\n",
       "      <td>0.813412</td>\n",
       "      <td>FDP Party</td>\n",
       "    </tr>\n",
       "    <tr>\n",
       "      <th>Dr. Michael von Abercron</th>\n",
       "      <td>CDU</td>\n",
       "      <td>0.490099</td>\n",
       "      <td>0.722058</td>\n",
       "      <td>0.373639</td>\n",
       "      <td>0.245865</td>\n",
       "      <td>0.387747</td>\n",
       "      <td>0.457792</td>\n",
       "      <td>0.418815</td>\n",
       "      <td>CDU Party</td>\n",
       "    </tr>\n",
       "    <tr>\n",
       "      <th>Grigorios Aggelidis</th>\n",
       "      <td>FDP</td>\n",
       "      <td>0.348931</td>\n",
       "      <td>0.356978</td>\n",
       "      <td>0.351473</td>\n",
       "      <td>0.270891</td>\n",
       "      <td>0.288008</td>\n",
       "      <td>0.400288</td>\n",
       "      <td>0.530926</td>\n",
       "      <td>FDP Party</td>\n",
       "    </tr>\n",
       "    <tr>\n",
       "      <th>Diyar Agu</th>\n",
       "      <td>DIE LINKE</td>\n",
       "      <td>0.439670</td>\n",
       "      <td>0.435868</td>\n",
       "      <td>0.792577</td>\n",
       "      <td>0.199063</td>\n",
       "      <td>0.142829</td>\n",
       "      <td>0.381990</td>\n",
       "      <td>0.403513</td>\n",
       "      <td>DIE LINKE Party</td>\n",
       "    </tr>\n",
       "    <tr>\n",
       "      <th>Gökay Akbulut DIE LINKE</th>\n",
       "      <td>DIE LINKE</td>\n",
       "      <td>0.537304</td>\n",
       "      <td>0.475930</td>\n",
       "      <td>0.679563</td>\n",
       "      <td>0.292301</td>\n",
       "      <td>0.461141</td>\n",
       "      <td>0.631102</td>\n",
       "      <td>0.444224</td>\n",
       "      <td>DIE LINKE Party</td>\n",
       "    </tr>\n",
       "  </tbody>\n",
       "</table>\n",
       "</div>"
      ],
      "text/plain": [
       "                         Partei_ABK  SPD Party  CDU Party  DIE LINKE Party  \\\n",
       "from_name                                                                    \n",
       "Valentin Abel                   FDP   0.374163   0.366248         0.377242   \n",
       "Dr. Michael von Abercron        CDU   0.490099   0.722058         0.373639   \n",
       "Grigorios Aggelidis             FDP   0.348931   0.356978         0.351473   \n",
       "Diyar Agu                 DIE LINKE   0.439670   0.435868         0.792577   \n",
       "Gökay Akbulut DIE LINKE   DIE LINKE   0.537304   0.475930         0.679563   \n",
       "\n",
       "                          AfD Party  CSU Party  GRÜNE Party  FDP Party  \\\n",
       "from_name                                                                \n",
       "Valentin Abel              0.226058   0.384117     0.488097   0.813412   \n",
       "Dr. Michael von Abercron   0.245865   0.387747     0.457792   0.418815   \n",
       "Grigorios Aggelidis        0.270891   0.288008     0.400288   0.530926   \n",
       "Diyar Agu                  0.199063   0.142829     0.381990   0.403513   \n",
       "Gökay Akbulut DIE LINKE    0.292301   0.461141     0.631102   0.444224   \n",
       "\n",
       "                             most similar  \n",
       "from_name                                  \n",
       "Valentin Abel                   FDP Party  \n",
       "Dr. Michael von Abercron        CDU Party  \n",
       "Grigorios Aggelidis             FDP Party  \n",
       "Diyar Agu                 DIE LINKE Party  \n",
       "Gökay Akbulut DIE LINKE   DIE LINKE Party  "
      ]
     },
     "execution_count": 24,
     "metadata": {},
     "output_type": "execute_result"
    }
   ],
   "source": [
    "candidate_data.head()"
   ]
  },
  {
   "cell_type": "code",
   "execution_count": 23,
   "metadata": {
    "ExecuteTime": {
     "end_time": "2018-01-06T02:09:49.553097Z",
     "start_time": "2018-01-06T02:09:49.530063Z"
    }
   },
   "outputs": [],
   "source": [
    "candidate_data['most similar'] = candidate_data.iloc[:,1:].idxmax(axis=1)"
   ]
  },
  {
   "cell_type": "code",
   "execution_count": 25,
   "metadata": {
    "ExecuteTime": {
     "end_time": "2018-01-06T02:12:32.465727Z",
     "start_time": "2018-01-06T02:12:32.149250Z"
    }
   },
   "outputs": [],
   "source": [
    "most_similar_candidates = pd.crosstab(candidate_data['Partei_ABK'], candidate_data['most similar'])"
   ]
  },
  {
   "cell_type": "code",
   "execution_count": 26,
   "metadata": {
    "ExecuteTime": {
     "end_time": "2018-01-06T02:12:45.094047Z",
     "start_time": "2018-01-06T02:12:45.060539Z"
    }
   },
   "outputs": [
    {
     "data": {
      "text/html": [
       "<div>\n",
       "<style scoped>\n",
       "    .dataframe tbody tr th:only-of-type {\n",
       "        vertical-align: middle;\n",
       "    }\n",
       "\n",
       "    .dataframe tbody tr th {\n",
       "        vertical-align: top;\n",
       "    }\n",
       "\n",
       "    .dataframe thead th {\n",
       "        text-align: right;\n",
       "    }\n",
       "</style>\n",
       "<table border=\"1\" class=\"dataframe\">\n",
       "  <thead>\n",
       "    <tr style=\"text-align: right;\">\n",
       "      <th>most similar</th>\n",
       "      <th>AfD Party</th>\n",
       "      <th>CDU Party</th>\n",
       "      <th>CSU Party</th>\n",
       "      <th>DIE LINKE Party</th>\n",
       "      <th>FDP Party</th>\n",
       "      <th>GRÜNE Party</th>\n",
       "      <th>SPD Party</th>\n",
       "    </tr>\n",
       "    <tr>\n",
       "      <th>Partei_ABK</th>\n",
       "      <th></th>\n",
       "      <th></th>\n",
       "      <th></th>\n",
       "      <th></th>\n",
       "      <th></th>\n",
       "      <th></th>\n",
       "      <th></th>\n",
       "    </tr>\n",
       "  </thead>\n",
       "  <tbody>\n",
       "    <tr>\n",
       "      <th>AfD</th>\n",
       "      <td>119</td>\n",
       "      <td>0</td>\n",
       "      <td>1</td>\n",
       "      <td>1</td>\n",
       "      <td>1</td>\n",
       "      <td>1</td>\n",
       "      <td>1</td>\n",
       "    </tr>\n",
       "    <tr>\n",
       "      <th>CDU</th>\n",
       "      <td>2</td>\n",
       "      <td>185</td>\n",
       "      <td>7</td>\n",
       "      <td>2</td>\n",
       "      <td>1</td>\n",
       "      <td>8</td>\n",
       "      <td>4</td>\n",
       "    </tr>\n",
       "    <tr>\n",
       "      <th>CSU</th>\n",
       "      <td>0</td>\n",
       "      <td>1</td>\n",
       "      <td>45</td>\n",
       "      <td>0</td>\n",
       "      <td>0</td>\n",
       "      <td>0</td>\n",
       "      <td>0</td>\n",
       "    </tr>\n",
       "    <tr>\n",
       "      <th>DIE LINKE</th>\n",
       "      <td>1</td>\n",
       "      <td>0</td>\n",
       "      <td>0</td>\n",
       "      <td>110</td>\n",
       "      <td>0</td>\n",
       "      <td>0</td>\n",
       "      <td>0</td>\n",
       "    </tr>\n",
       "    <tr>\n",
       "      <th>FDP</th>\n",
       "      <td>2</td>\n",
       "      <td>0</td>\n",
       "      <td>0</td>\n",
       "      <td>1</td>\n",
       "      <td>164</td>\n",
       "      <td>6</td>\n",
       "      <td>0</td>\n",
       "    </tr>\n",
       "    <tr>\n",
       "      <th>GRÜNE</th>\n",
       "      <td>0</td>\n",
       "      <td>0</td>\n",
       "      <td>0</td>\n",
       "      <td>1</td>\n",
       "      <td>0</td>\n",
       "      <td>93</td>\n",
       "      <td>1</td>\n",
       "    </tr>\n",
       "    <tr>\n",
       "      <th>SPD</th>\n",
       "      <td>0</td>\n",
       "      <td>3</td>\n",
       "      <td>15</td>\n",
       "      <td>11</td>\n",
       "      <td>2</td>\n",
       "      <td>8</td>\n",
       "      <td>211</td>\n",
       "    </tr>\n",
       "  </tbody>\n",
       "</table>\n",
       "</div>"
      ],
      "text/plain": [
       "most similar  AfD Party  CDU Party  CSU Party  DIE LINKE Party  FDP Party  \\\n",
       "Partei_ABK                                                                  \n",
       "AfD                 119          0          1                1          1   \n",
       "CDU                   2        185          7                2          1   \n",
       "CSU                   0          1         45                0          0   \n",
       "DIE LINKE             1          0          0              110          0   \n",
       "FDP                   2          0          0                1        164   \n",
       "GRÜNE                 0          0          0                1          0   \n",
       "SPD                   0          3         15               11          2   \n",
       "\n",
       "most similar  GRÜNE Party  SPD Party  \n",
       "Partei_ABK                            \n",
       "AfD                     1          1  \n",
       "CDU                     8          4  \n",
       "CSU                     0          0  \n",
       "DIE LINKE               0          0  \n",
       "FDP                     6          0  \n",
       "GRÜNE                  93          1  \n",
       "SPD                     8        211  "
      ]
     },
     "execution_count": 26,
     "metadata": {},
     "output_type": "execute_result"
    }
   ],
   "source": [
    "most_similar_candidates"
   ]
  }
 ],
 "metadata": {
  "kernelspec": {
   "display_name": "Python 3",
   "language": "python",
   "name": "python3"
  },
  "varInspector": {
   "cols": {
    "lenName": 16,
    "lenType": 16,
    "lenVar": 40
   },
   "kernels_config": {
    "python": {
     "delete_cmd_postfix": "",
     "delete_cmd_prefix": "del ",
     "library": "var_list.py",
     "varRefreshCmd": "print(var_dic_list())"
    },
    "r": {
     "delete_cmd_postfix": ") ",
     "delete_cmd_prefix": "rm(",
     "library": "var_list.r",
     "varRefreshCmd": "cat(var_dic_list()) "
    }
   },
   "types_to_exclude": [
    "module",
    "function",
    "builtin_function_or_method",
    "instance",
    "_Feature"
   ],
   "window_display": false
  }
 },
 "nbformat": 4,
 "nbformat_minor": 2
}
